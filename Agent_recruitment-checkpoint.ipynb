{
 "cells": [
  {
   "cell_type": "markdown",
   "id": "50cbbed3",
   "metadata": {},
   "source": [
    "# Smart Agent Recruitment Challenge"
   ]
  },
  {
   "cell_type": "markdown",
   "id": "a3db23a0",
   "metadata": {},
   "source": [
    "## PROBLEM STATEMENT:\n",
    "\n",
    "FinMan is a Financial Distribution company. Over the last 10 years, they have created an offline distribution channel across India. They sell Financial products to consumers by hiring agents in their network. These agents are freelancers and get commission when they make a product sale.\n",
    "\n",
    "\n",
    "### Overview of FinMan On-boarding process\n",
    "\n",
    "The Managers at FinMan are primarily responsible for recruiting agents. Once a manager has identified a potential applicant, the would explain the business opportunity to the agent. Once the agent provides the consent, an application is made to FinMan to become an agent. This date is known as application_receipt_date.\n",
    "\n",
    "In the next 3 months, this potential agent has to undergo a 7 day training at the FinMan branch (about Sales processes and various products) and clear a subsequent examination in order to become a FinMan agent.\n",
    "\n",
    "\n",
    "### The problem - Who are the best agents?\n",
    " As is obvious in the above process, there is a significant investment which FinMan makes in identifying, training and recruiting these agents. However, there are a set of agents who do not bring in the expected resultant business. \n",
    "\n",
    "Finman has approached you and asked you to complete two separate tasks :- \n",
    "\n",
    "\n",
    "First : You are expected to create a Dashboard using PowerBI to analyse and observe the overall past recruitment data to help your client derive meaningful insights.\n",
    "Second: You are expected to predict the target variable for each potential agent, which would help them identify the right agents to hire.\n"
   ]
  },
  {
   "cell_type": "markdown",
   "id": "7eb28c33",
   "metadata": {},
   "source": [
    "Fin. distribution company- A third-party distributor is an institution that sells or distributes mutual funds to investors for fund management companies. The distributor usually receives sales charge commissions for selling the investment company's mutual funds as well as a portion of the trailer fees associated with the fund\n",
    "\n",
    "Manager -> Potential applicant Identification-> Business oppor. explained -> Becomes agent on consent on application_receipt date -> Next 3 months: 7 day training about Sales processess and various products; Exam-> Become Finman agent"
   ]
  },
  {
   "cell_type": "markdown",
   "id": "e4dc7399",
   "metadata": {},
   "source": [
    "OBJECTIVES:\n",
    "\n",
    "    -Identify agents who bring in and do not bring in expected resultant business\n",
    "    -Identify right agents to hire\n",
    "    -Predict target variable for each potential agent"
   ]
  },
  {
   "cell_type": "markdown",
   "id": "64044a01",
   "metadata": {},
   "source": [
    "## DATA:\n",
    "\n",
    "    - ID\t:Unique Application ID\n",
    "    - Office_PIN\t:PINCODE of Fintro's Offices\n",
    "    - Application_Receipt_Date:\tDate of Application\n",
    "    - Applicant_City_PIN:\tPINCODE of Applicant Address\n",
    "    - Applicant_Gender:\tApplicant's Gender\n",
    "    - Applicant_BirthDate:\tApplicant's Birthdate\n",
    "    - Applicant_Marital_Status:\tApplicant's Marital Status\n",
    "    - Applicant_Occupation:\tApplicant's Occupation\n",
    "    - Applicant_Qualification:\tApplicant's Educational Qualification\n",
    "    - Manager_DOJ:\tManager's Date of Joining\n",
    "    - Manager_Joining_Designation:\tManager's Joining Designation in Fintro\n",
    "    - Manager_Current_Designation:\tManager's Designation at the time of application sourcing\n",
    "    - Manager_Grade:\tManager's Grade in Fintro\n",
    "    - Manager_Status:\tCurrent Employment Status (Probation / Confirmation)\n",
    "    - Manager_Gender:\tManager's Gender\n",
    "    - Manager_DoB:\tManager's Birthdate\n",
    "    - Manager_Num_Application:\tNo. of Applications sourced in last 3 months by the Manager\n",
    "    - Manager_Num_Coded:\tNo. of agents recruited by the manager in last 3 months\n",
    "    - Manager_Business:\tAmount of business sourced by the manager in last 3 months\n",
    "    - Manager_Num_Products:\tNumber of products sold by the manager in last 3 months\n",
    "        - Manager_Business2:\tAmount of business sourced by the manager in last 3 months excluding business from their Category A advisor\n",
    "        - Manager_Num_Products2:\tNumber of products sold by the manager in last 3 months excluding business from their Category A advisor\n",
    "    - Business_Sourced(Target):\tBusiness sourced by applicant within 3 months [1/0] of recruitment"
   ]
  },
  {
   "cell_type": "markdown",
   "id": "7956cf23",
   "metadata": {},
   "source": [
    "## IMPORTING LIBRARIES AND DATASET"
   ]
  },
  {
   "cell_type": "code",
   "execution_count": 1,
   "id": "ddd4c367",
   "metadata": {},
   "outputs": [],
   "source": [
    "import pandas as pd\n",
    "import seaborn as sns\n",
    "import matplotlib.pyplot as plt\n",
    "import numpy as np\n",
    "import datetime\n",
    "\n",
    "from sklearn.ensemble import RandomForestClassifier\n",
    "from sklearn.ensemble import GradientBoostingClassifier\n",
    "from sklearn.ensemble import ExtraTreesClassifier\n",
    "from sklearn.tree import DecisionTreeClassifier\n",
    "import math\n",
    "\n",
    "from sklearn.pipeline import Pipeline\n",
    "from sklearn.ensemble import AdaBoostClassifier\n",
    "from sklearn.ensemble import GradientBoostingClassifier\n",
    "from sklearn import model_selection\n",
    "from sklearn.model_selection import cross_val_score\n",
    "from sklearn.feature_selection import SelectFromModel\n",
    "from sklearn.model_selection import KFold, StratifiedKFold\n",
    "from catboost import CatBoostClassifier\n",
    "from lightgbm import LGBMClassifier\n",
    "from xgboost import XGBClassifier\n",
    "\n",
    "from sklearn.model_selection import RandomizedSearchCV, GridSearchCV\n",
    "from sklearn.metrics import roc_auc_score"
   ]
  },
  {
   "cell_type": "code",
   "execution_count": 2,
   "id": "0d50b67b",
   "metadata": {},
   "outputs": [],
   "source": [
    "train_agent=pd.read_csv('train_agent.csv')\n",
    "test_agent=pd.read_csv('test_agent.csv')\n",
    "\n",
    "train_agent['source']='train'\n",
    "test_agent['source']='test'"
   ]
  },
  {
   "cell_type": "code",
   "execution_count": 3,
   "id": "3fe89f6d",
   "metadata": {},
   "outputs": [
    {
     "data": {
      "text/html": [
       "<div>\n",
       "<style scoped>\n",
       "    .dataframe tbody tr th:only-of-type {\n",
       "        vertical-align: middle;\n",
       "    }\n",
       "\n",
       "    .dataframe tbody tr th {\n",
       "        vertical-align: top;\n",
       "    }\n",
       "\n",
       "    .dataframe thead th {\n",
       "        text-align: right;\n",
       "    }\n",
       "</style>\n",
       "<table border=\"1\" class=\"dataframe\">\n",
       "  <thead>\n",
       "    <tr style=\"text-align: right;\">\n",
       "      <th></th>\n",
       "      <th>ID</th>\n",
       "      <th>Office_PIN</th>\n",
       "      <th>Application_Receipt_Date</th>\n",
       "      <th>Applicant_City_PIN</th>\n",
       "      <th>Applicant_Gender</th>\n",
       "      <th>Applicant_BirthDate</th>\n",
       "      <th>Applicant_Marital_Status</th>\n",
       "      <th>Applicant_Occupation</th>\n",
       "      <th>Applicant_Qualification</th>\n",
       "      <th>Manager_DOJ</th>\n",
       "      <th>...</th>\n",
       "      <th>Manager_Gender</th>\n",
       "      <th>Manager_DoB</th>\n",
       "      <th>Manager_Num_Application</th>\n",
       "      <th>Manager_Num_Coded</th>\n",
       "      <th>Manager_Business</th>\n",
       "      <th>Manager_Num_Products</th>\n",
       "      <th>Manager_Business2</th>\n",
       "      <th>Manager_Num_Products2</th>\n",
       "      <th>Business_Sourced</th>\n",
       "      <th>source</th>\n",
       "    </tr>\n",
       "  </thead>\n",
       "  <tbody>\n",
       "    <tr>\n",
       "      <th>0</th>\n",
       "      <td>FIN1000001</td>\n",
       "      <td>842001</td>\n",
       "      <td>4/16/2007</td>\n",
       "      <td>844120.0</td>\n",
       "      <td>M</td>\n",
       "      <td>12/19/1971</td>\n",
       "      <td>M</td>\n",
       "      <td>Others</td>\n",
       "      <td>Graduate</td>\n",
       "      <td>11/10/2005</td>\n",
       "      <td>...</td>\n",
       "      <td>M</td>\n",
       "      <td>2/17/1978</td>\n",
       "      <td>2.0</td>\n",
       "      <td>1.0</td>\n",
       "      <td>335249.0</td>\n",
       "      <td>28.0</td>\n",
       "      <td>335249.0</td>\n",
       "      <td>28.0</td>\n",
       "      <td>0</td>\n",
       "      <td>train</td>\n",
       "    </tr>\n",
       "    <tr>\n",
       "      <th>1</th>\n",
       "      <td>FIN1000002</td>\n",
       "      <td>842001</td>\n",
       "      <td>4/16/2007</td>\n",
       "      <td>844111.0</td>\n",
       "      <td>M</td>\n",
       "      <td>2/17/1983</td>\n",
       "      <td>S</td>\n",
       "      <td>Others</td>\n",
       "      <td>Class XII</td>\n",
       "      <td>11/10/2005</td>\n",
       "      <td>...</td>\n",
       "      <td>M</td>\n",
       "      <td>2/17/1978</td>\n",
       "      <td>2.0</td>\n",
       "      <td>1.0</td>\n",
       "      <td>335249.0</td>\n",
       "      <td>28.0</td>\n",
       "      <td>335249.0</td>\n",
       "      <td>28.0</td>\n",
       "      <td>1</td>\n",
       "      <td>train</td>\n",
       "    </tr>\n",
       "    <tr>\n",
       "      <th>2</th>\n",
       "      <td>FIN1000003</td>\n",
       "      <td>800001</td>\n",
       "      <td>4/16/2007</td>\n",
       "      <td>844101.0</td>\n",
       "      <td>M</td>\n",
       "      <td>1/16/1966</td>\n",
       "      <td>M</td>\n",
       "      <td>Business</td>\n",
       "      <td>Class XII</td>\n",
       "      <td>5/27/2006</td>\n",
       "      <td>...</td>\n",
       "      <td>M</td>\n",
       "      <td>3/3/1969</td>\n",
       "      <td>0.0</td>\n",
       "      <td>0.0</td>\n",
       "      <td>357184.0</td>\n",
       "      <td>24.0</td>\n",
       "      <td>357184.0</td>\n",
       "      <td>24.0</td>\n",
       "      <td>0</td>\n",
       "      <td>train</td>\n",
       "    </tr>\n",
       "    <tr>\n",
       "      <th>3</th>\n",
       "      <td>FIN1000004</td>\n",
       "      <td>814112</td>\n",
       "      <td>4/16/2007</td>\n",
       "      <td>814112.0</td>\n",
       "      <td>M</td>\n",
       "      <td>2/3/1988</td>\n",
       "      <td>S</td>\n",
       "      <td>Salaried</td>\n",
       "      <td>Class XII</td>\n",
       "      <td>8/21/2003</td>\n",
       "      <td>...</td>\n",
       "      <td>F</td>\n",
       "      <td>8/14/1978</td>\n",
       "      <td>0.0</td>\n",
       "      <td>0.0</td>\n",
       "      <td>318356.0</td>\n",
       "      <td>22.0</td>\n",
       "      <td>318356.0</td>\n",
       "      <td>22.0</td>\n",
       "      <td>0</td>\n",
       "      <td>train</td>\n",
       "    </tr>\n",
       "  </tbody>\n",
       "</table>\n",
       "<p>4 rows × 24 columns</p>\n",
       "</div>"
      ],
      "text/plain": [
       "           ID  Office_PIN Application_Receipt_Date  Applicant_City_PIN  \\\n",
       "0  FIN1000001      842001                4/16/2007            844120.0   \n",
       "1  FIN1000002      842001                4/16/2007            844111.0   \n",
       "2  FIN1000003      800001                4/16/2007            844101.0   \n",
       "3  FIN1000004      814112                4/16/2007            814112.0   \n",
       "\n",
       "  Applicant_Gender Applicant_BirthDate Applicant_Marital_Status  \\\n",
       "0                M          12/19/1971                        M   \n",
       "1                M           2/17/1983                        S   \n",
       "2                M           1/16/1966                        M   \n",
       "3                M            2/3/1988                        S   \n",
       "\n",
       "  Applicant_Occupation Applicant_Qualification Manager_DOJ  ...  \\\n",
       "0               Others                Graduate  11/10/2005  ...   \n",
       "1               Others               Class XII  11/10/2005  ...   \n",
       "2             Business               Class XII   5/27/2006  ...   \n",
       "3             Salaried               Class XII   8/21/2003  ...   \n",
       "\n",
       "  Manager_Gender Manager_DoB  Manager_Num_Application Manager_Num_Coded  \\\n",
       "0              M   2/17/1978                      2.0               1.0   \n",
       "1              M   2/17/1978                      2.0               1.0   \n",
       "2              M    3/3/1969                      0.0               0.0   \n",
       "3              F   8/14/1978                      0.0               0.0   \n",
       "\n",
       "  Manager_Business Manager_Num_Products  Manager_Business2  \\\n",
       "0         335249.0                 28.0           335249.0   \n",
       "1         335249.0                 28.0           335249.0   \n",
       "2         357184.0                 24.0           357184.0   \n",
       "3         318356.0                 22.0           318356.0   \n",
       "\n",
       "   Manager_Num_Products2  Business_Sourced  source  \n",
       "0                   28.0                 0   train  \n",
       "1                   28.0                 1   train  \n",
       "2                   24.0                 0   train  \n",
       "3                   22.0                 0   train  \n",
       "\n",
       "[4 rows x 24 columns]"
      ]
     },
     "execution_count": 3,
     "metadata": {},
     "output_type": "execute_result"
    }
   ],
   "source": [
    "train_agent.head(4)"
   ]
  },
  {
   "cell_type": "code",
   "execution_count": 15,
   "id": "1bb3edc1-c60f-45f7-8e06-8af1c0284c26",
   "metadata": {},
   "outputs": [
    {
     "data": {
      "text/plain": [
       "(14572, 24)"
      ]
     },
     "execution_count": 15,
     "metadata": {},
     "output_type": "execute_result"
    }
   ],
   "source": [
    "combine_agent = train_agent.append(test_agent)\n",
    "combine_agent.shape"
   ]
  },
  {
   "cell_type": "markdown",
   "id": "75575c02",
   "metadata": {},
   "source": [
    "#### HYPOTHESIS GENERATION\n",
    "\n",
    "Which agents/applicants are likely to bring in more business sourced within 3 months of recruitment?\n",
    "\n",
    "    - Do female applicants bring in more business than male?\n",
    "    - Do applicants with single marital status bring in less business?\n",
    "    - Are applicants with lesser qualifications unlikely to bring more business?\n",
    "    - Do applicants with salaried occupation contribute to better business?\n",
    "    - Are applicants living near the office able to generate higher business revenue?\n",
    "    - Do younger applicants contribute more to the business source?\n",
    "    - Do Managers with a higher grade recruit applicants who are more talented and bring more BSR?\n",
    "    - Do older managers/ manager's DOJ have an impact on better recruitment experience and who brings in more BSR?\n",
    "    - Do managers who are married bring in less BSR?\n",
    "    - Does the current employement status of the manager affect BSR?\n",
    "    - Does the number of agents recruited directly prop. to the no. of products?\n",
    "    - Do managers who have a earlier DOJ contribute to more business sourced?\n",
    "    - Does no. of products sold, manager business contribute data given contribute to the agents who bring in business?\n",
    "    - Which Grade of Managers' bring in more efficient clients who contribute to better business sourced?"
   ]
  },
  {
   "cell_type": "code",
   "execution_count": 16,
   "id": "2d4c1e92",
   "metadata": {},
   "outputs": [
    {
     "name": "stdout",
     "output_type": "stream",
     "text": [
      "<class 'pandas.core.frame.DataFrame'>\n",
      "RangeIndex: 9527 entries, 0 to 9526\n",
      "Data columns (total 24 columns):\n",
      " #   Column                       Non-Null Count  Dtype  \n",
      "---  ------                       --------------  -----  \n",
      " 0   ID                           9527 non-null   object \n",
      " 1   Office_PIN                   9527 non-null   int64  \n",
      " 2   Application_Receipt_Date     9527 non-null   object \n",
      " 3   Applicant_City_PIN           9430 non-null   float64\n",
      " 4   Applicant_Gender             9460 non-null   object \n",
      " 5   Applicant_BirthDate          9454 non-null   object \n",
      " 6   Applicant_Marital_Status     9454 non-null   object \n",
      " 7   Applicant_Occupation         8306 non-null   object \n",
      " 8   Applicant_Qualification      9441 non-null   object \n",
      " 9   Manager_DOJ                  8844 non-null   object \n",
      " 10  Manager_Joining_Designation  8844 non-null   object \n",
      " 11  Manager_Current_Designation  8844 non-null   object \n",
      " 12  Manager_Grade                8844 non-null   float64\n",
      " 13  Manager_Status               8844 non-null   object \n",
      " 14  Manager_Gender               8844 non-null   object \n",
      " 15  Manager_DoB                  8844 non-null   object \n",
      " 16  Manager_Num_Application      8844 non-null   float64\n",
      " 17  Manager_Num_Coded            8844 non-null   float64\n",
      " 18  Manager_Business             8844 non-null   float64\n",
      " 19  Manager_Num_Products         8844 non-null   float64\n",
      " 20  Manager_Business2            8844 non-null   float64\n",
      " 21  Manager_Num_Products2        8844 non-null   float64\n",
      " 22  Business_Sourced             9527 non-null   int64  \n",
      " 23  source                       9527 non-null   object \n",
      "dtypes: float64(8), int64(2), object(14)\n",
      "memory usage: 1.7+ MB\n"
     ]
    }
   ],
   "source": [
    "train_agent.info()"
   ]
  },
  {
   "cell_type": "code",
   "execution_count": 17,
   "id": "57297a6b",
   "metadata": {},
   "outputs": [
    {
     "data": {
      "text/plain": [
       "(9527, 24)"
      ]
     },
     "execution_count": 17,
     "metadata": {},
     "output_type": "execute_result"
    }
   ],
   "source": [
    "train_agent.shape"
   ]
  },
  {
   "cell_type": "code",
   "execution_count": 18,
   "id": "9721cf35",
   "metadata": {},
   "outputs": [
    {
     "data": {
      "text/plain": [
       "(5045, 23)"
      ]
     },
     "execution_count": 18,
     "metadata": {},
     "output_type": "execute_result"
    }
   ],
   "source": [
    "test_agent.shape"
   ]
  },
  {
   "cell_type": "markdown",
   "id": "2c7209a5",
   "metadata": {},
   "source": [
    "### Descriptive Statistics"
   ]
  },
  {
   "cell_type": "code",
   "execution_count": 19,
   "id": "ad370e4d",
   "metadata": {},
   "outputs": [
    {
     "data": {
      "text/html": [
       "<div>\n",
       "<style scoped>\n",
       "    .dataframe tbody tr th:only-of-type {\n",
       "        vertical-align: middle;\n",
       "    }\n",
       "\n",
       "    .dataframe tbody tr th {\n",
       "        vertical-align: top;\n",
       "    }\n",
       "\n",
       "    .dataframe thead th {\n",
       "        text-align: right;\n",
       "    }\n",
       "</style>\n",
       "<table border=\"1\" class=\"dataframe\">\n",
       "  <thead>\n",
       "    <tr style=\"text-align: right;\">\n",
       "      <th></th>\n",
       "      <th>count</th>\n",
       "      <th>mean</th>\n",
       "      <th>std</th>\n",
       "      <th>min</th>\n",
       "      <th>25%</th>\n",
       "      <th>50%</th>\n",
       "      <th>75%</th>\n",
       "      <th>max</th>\n",
       "    </tr>\n",
       "  </thead>\n",
       "  <tbody>\n",
       "    <tr>\n",
       "      <th>Office_PIN</th>\n",
       "      <td>9527.0</td>\n",
       "      <td>452894.372205</td>\n",
       "      <td>235690.618252</td>\n",
       "      <td>110005.0</td>\n",
       "      <td>226001.0</td>\n",
       "      <td>416001.0</td>\n",
       "      <td>695014.00</td>\n",
       "      <td>851101.0</td>\n",
       "    </tr>\n",
       "    <tr>\n",
       "      <th>Applicant_City_PIN</th>\n",
       "      <td>9430.0</td>\n",
       "      <td>456784.547296</td>\n",
       "      <td>239291.081207</td>\n",
       "      <td>110001.0</td>\n",
       "      <td>226020.0</td>\n",
       "      <td>422005.5</td>\n",
       "      <td>695017.00</td>\n",
       "      <td>995657.0</td>\n",
       "    </tr>\n",
       "    <tr>\n",
       "      <th>Manager_Grade</th>\n",
       "      <td>8844.0</td>\n",
       "      <td>3.264134</td>\n",
       "      <td>1.137449</td>\n",
       "      <td>1.0</td>\n",
       "      <td>2.0</td>\n",
       "      <td>3.0</td>\n",
       "      <td>4.00</td>\n",
       "      <td>10.0</td>\n",
       "    </tr>\n",
       "    <tr>\n",
       "      <th>Manager_Num_Application</th>\n",
       "      <td>8844.0</td>\n",
       "      <td>1.939733</td>\n",
       "      <td>2.150529</td>\n",
       "      <td>0.0</td>\n",
       "      <td>0.0</td>\n",
       "      <td>1.0</td>\n",
       "      <td>3.00</td>\n",
       "      <td>22.0</td>\n",
       "    </tr>\n",
       "    <tr>\n",
       "      <th>Manager_Num_Coded</th>\n",
       "      <td>8844.0</td>\n",
       "      <td>0.758933</td>\n",
       "      <td>1.188644</td>\n",
       "      <td>0.0</td>\n",
       "      <td>0.0</td>\n",
       "      <td>0.0</td>\n",
       "      <td>1.00</td>\n",
       "      <td>9.0</td>\n",
       "    </tr>\n",
       "    <tr>\n",
       "      <th>Manager_Business</th>\n",
       "      <td>8844.0</td>\n",
       "      <td>184370.973428</td>\n",
       "      <td>274716.323095</td>\n",
       "      <td>-265289.0</td>\n",
       "      <td>0.0</td>\n",
       "      <td>102178.0</td>\n",
       "      <td>247116.50</td>\n",
       "      <td>3578265.0</td>\n",
       "    </tr>\n",
       "    <tr>\n",
       "      <th>Manager_Num_Products</th>\n",
       "      <td>8844.0</td>\n",
       "      <td>7.152307</td>\n",
       "      <td>8.439351</td>\n",
       "      <td>0.0</td>\n",
       "      <td>0.0</td>\n",
       "      <td>5.0</td>\n",
       "      <td>11.00</td>\n",
       "      <td>101.0</td>\n",
       "    </tr>\n",
       "    <tr>\n",
       "      <th>Manager_Business2</th>\n",
       "      <td>8844.0</td>\n",
       "      <td>182926.343962</td>\n",
       "      <td>271802.145895</td>\n",
       "      <td>-265289.0</td>\n",
       "      <td>0.0</td>\n",
       "      <td>101714.0</td>\n",
       "      <td>246461.25</td>\n",
       "      <td>3578265.0</td>\n",
       "    </tr>\n",
       "    <tr>\n",
       "      <th>Manager_Num_Products2</th>\n",
       "      <td>8844.0</td>\n",
       "      <td>7.131275</td>\n",
       "      <td>8.423597</td>\n",
       "      <td>0.0</td>\n",
       "      <td>0.0</td>\n",
       "      <td>5.0</td>\n",
       "      <td>11.00</td>\n",
       "      <td>101.0</td>\n",
       "    </tr>\n",
       "    <tr>\n",
       "      <th>Business_Sourced</th>\n",
       "      <td>9527.0</td>\n",
       "      <td>0.342920</td>\n",
       "      <td>0.474710</td>\n",
       "      <td>0.0</td>\n",
       "      <td>0.0</td>\n",
       "      <td>0.0</td>\n",
       "      <td>1.00</td>\n",
       "      <td>1.0</td>\n",
       "    </tr>\n",
       "  </tbody>\n",
       "</table>\n",
       "</div>"
      ],
      "text/plain": [
       "                          count           mean            std       min  \\\n",
       "Office_PIN               9527.0  452894.372205  235690.618252  110005.0   \n",
       "Applicant_City_PIN       9430.0  456784.547296  239291.081207  110001.0   \n",
       "Manager_Grade            8844.0       3.264134       1.137449       1.0   \n",
       "Manager_Num_Application  8844.0       1.939733       2.150529       0.0   \n",
       "Manager_Num_Coded        8844.0       0.758933       1.188644       0.0   \n",
       "Manager_Business         8844.0  184370.973428  274716.323095 -265289.0   \n",
       "Manager_Num_Products     8844.0       7.152307       8.439351       0.0   \n",
       "Manager_Business2        8844.0  182926.343962  271802.145895 -265289.0   \n",
       "Manager_Num_Products2    8844.0       7.131275       8.423597       0.0   \n",
       "Business_Sourced         9527.0       0.342920       0.474710       0.0   \n",
       "\n",
       "                              25%       50%        75%        max  \n",
       "Office_PIN               226001.0  416001.0  695014.00   851101.0  \n",
       "Applicant_City_PIN       226020.0  422005.5  695017.00   995657.0  \n",
       "Manager_Grade                 2.0       3.0       4.00       10.0  \n",
       "Manager_Num_Application       0.0       1.0       3.00       22.0  \n",
       "Manager_Num_Coded             0.0       0.0       1.00        9.0  \n",
       "Manager_Business              0.0  102178.0  247116.50  3578265.0  \n",
       "Manager_Num_Products          0.0       5.0      11.00      101.0  \n",
       "Manager_Business2             0.0  101714.0  246461.25  3578265.0  \n",
       "Manager_Num_Products2         0.0       5.0      11.00      101.0  \n",
       "Business_Sourced              0.0       0.0       1.00        1.0  "
      ]
     },
     "execution_count": 19,
     "metadata": {},
     "output_type": "execute_result"
    }
   ],
   "source": [
    "train_agent.describe().transpose()"
   ]
  },
  {
   "cell_type": "markdown",
   "id": "2ef188b6",
   "metadata": {},
   "source": [
    "From the above, we can deduce from the mean and the median (from the 50th Percentile). This is most useful for continuous data points without extreme points.\n",
    "We can deduce from the median when the data has exteme points and is ordered."
   ]
  },
  {
   "cell_type": "markdown",
   "id": "73ceee17",
   "metadata": {},
   "source": [
    "### Data Types:"
   ]
  },
  {
   "cell_type": "markdown",
   "id": "872366d2",
   "metadata": {},
   "source": [
    "Identifying categorical , numerical & target variables:\n",
    "    - Target: Business_Sourced\n",
    "    \n",
    "    - Categorical: ID, Applicant_Gender,Applicant_Marital_Status,Applicant_Occupation,Applicant_Qualification,Manager_Status,Manager_Gender\n",
    "    \n",
    "    - Numerical: Applicant_City_PIN, Manager_Num_Application, Manager_Num_Coded, Manager_Business,Manager_Num_Products,Manager_Business2, Manager_Num_Products2\n",
    "    \n",
    "    - Datetime: Application_Receipt_Date, Applicant_BirthDate,Manager_DOJ,Manager_DoB"
   ]
  },
  {
   "cell_type": "markdown",
   "id": "ea68b418",
   "metadata": {},
   "source": [
    "#### (c) Exploring Numerical type variables"
   ]
  },
  {
   "cell_type": "code",
   "execution_count": 20,
   "id": "6fdf0c9a",
   "metadata": {},
   "outputs": [],
   "source": [
    "# Exploring Central tendencies of continuous (numeric variables)\n",
    "\n",
    "numerical_cols=['Applicant_City_PIN', 'Manager_Num_Application', 'Manager_Num_Coded', 'Manager_Business',\n",
    "                'Manager_Num_Products','Manager_Business2', 'Manager_Num_Products2']\n"
   ]
  },
  {
   "cell_type": "code",
   "execution_count": 21,
   "id": "7529e18f-b49b-4997-8da3-7bd3f11bd6f0",
   "metadata": {},
   "outputs": [
    {
     "data": {
      "text/plain": [
       "<AxesSubplot:xlabel='Manager_Business', ylabel='Density'>"
      ]
     },
     "execution_count": 21,
     "metadata": {},
     "output_type": "execute_result"
    },
    {
     "data": {
      "image/png": "[encoded data removed]",
      "text/plain": [
       "<Figure size 432x288 with 1 Axes>"
      ]
     },
     "metadata": {
      "needs_background": "light"
     },
     "output_type": "display_data"
    }
   ],
   "source": [
    "sns.kdeplot(train_agent['Manager_Business'])"
   ]
  },
  {
   "cell_type": "code",
   "execution_count": 22,
   "id": "e4757a70-3ba1-4c1e-b616-318c5b4f7474",
   "metadata": {},
   "outputs": [
    {
     "data": {
      "text/plain": [
       "<AxesSubplot:xlabel='Manager_Business2', ylabel='Density'>"
      ]
     },
     "execution_count": 22,
     "metadata": {},
     "output_type": "execute_result"
    },
    {
     "data": {
      "image/png": "[encoded data removed]",
      "text/plain": [
       "<Figure size 432x288 with 1 Axes>"
      ]
     },
     "metadata": {
      "needs_background": "light"
     },
     "output_type": "display_data"
    }
   ],
   "source": [
    "sns.kdeplot(train_agent['Manager_Business2'])"
   ]
  },
  {
   "cell_type": "code",
   "execution_count": 23,
   "id": "380a829e-e7bb-44d7-9ef8-db6407511e19",
   "metadata": {},
   "outputs": [
    {
     "data": {
      "text/plain": [
       "<AxesSubplot:xlabel='Manager_Num_Application', ylabel='Density'>"
      ]
     },
     "execution_count": 23,
     "metadata": {},
     "output_type": "execute_result"
    },
    {
     "data": {
      "image/png": "[encoded data removed]",
      "text/plain": [
       "<Figure size 432x288 with 1 Axes>"
      ]
     },
     "metadata": {
      "needs_background": "light"
     },
     "output_type": "display_data"
    }
   ],
   "source": [
    "sns.kdeplot(train_agent['Manager_Num_Application'])"
   ]
  },
  {
   "cell_type": "code",
   "execution_count": 24,
   "id": "241c4066",
   "metadata": {},
   "outputs": [
    {
     "data": {
      "text/plain": [
       "<AxesSubplot:xlabel='Manager_Num_Coded', ylabel='Density'>"
      ]
     },
     "execution_count": 24,
     "metadata": {},
     "output_type": "execute_result"
    },
    {
     "data": {
      "image/png": "[encoded data removed]",
      "text/plain": [
       "<Figure size 432x288 with 1 Axes>"
      ]
     },
     "metadata": {
      "needs_background": "light"
     },
     "output_type": "display_data"
    }
   ],
   "source": [
    "sns.kdeplot(train_agent['Manager_Num_Coded'])"
   ]
  },
  {
   "cell_type": "code",
   "execution_count": 25,
   "id": "065dc4d8",
   "metadata": {},
   "outputs": [
    {
     "data": {
      "text/plain": [
       "<AxesSubplot:>"
      ]
     },
     "execution_count": 25,
     "metadata": {},
     "output_type": "execute_result"
    },
    {
     "data": {
      "image/png": "[encoded data removed]",
      "text/plain": [
       "<Figure size 864x720 with 2 Axes>"
      ]
     },
     "metadata": {
      "needs_background": "light"
     },
     "output_type": "display_data"
    }
   ],
   "source": [
    "# Lets find correlation between the independent variables and Target variable\n",
    "\n",
    "correlation = train_agent.corr(method = 'pearson')\n",
    "\n",
    "fig, ax = plt.subplots(figsize=(12,10))\n",
    "sns.heatmap(correlation, linewidth=2, cmap=\"mako\", annot=True) #jet"
   ]
  },
  {
   "cell_type": "markdown",
   "id": "36c80d71",
   "metadata": {},
   "source": [
    "#### Since they are badly correlated, let's do Feature Engineering"
   ]
  },
  {
   "cell_type": "code",
   "execution_count": 26,
   "id": "7f7d3c3e-156d-45c8-b7f5-be8d9875044d",
   "metadata": {},
   "outputs": [],
   "source": [
    "# Converting to datetime (for creating new features)\n",
    "\n",
    "date_columns=['Applicant_BirthDate','Manager_DOJ','Manager_DoB', 'Application_Receipt_Date']\n",
    "for i in date_columns:\n",
    "    combine_agent[i]= pd.to_datetime(combine_agent[i])"
   ]
  },
  {
   "cell_type": "code",
   "execution_count": 27,
   "id": "c88a1c3c",
   "metadata": {},
   "outputs": [],
   "source": [
    "# Finding the age of the applicant (when application was received)\n",
    "combine_agent['ApplicantAge'] = ((combine_agent['Application_Receipt_Date']- combine_agent['Applicant_BirthDate'])/ np.timedelta64(1, 'D'))/365\n",
    "\n",
    "# Finding the Age and Experience (duration) of the Manager (when application was received)\n",
    "combine_agent['ManagerExperience'] = ((combine_agent['Application_Receipt_Date']-combine_agent['Manager_DOJ'])/ np.timedelta64(1, 'D'))/365\n",
    "combine_agent['ManagerAge'] =((combine_agent['Application_Receipt_Date']-combine_agent['Manager_DoB'])/ np.timedelta64(1, 'D'))/365\n",
    "\n",
    "# Seggregating Category A advisor from amount of business sourced and no. of products sold from the 2nd column\n",
    "combine_agent[\"Manager_Business2_categoryA\"] = combine_agent[\"Manager_Business\"] - combine_agent[\"Manager_Business2\"]\n",
    "combine_agent[\"Manager_Num_Products2_categoryA\"] = combine_agent[\"Manager_Num_Products\"] - combine_agent[\"Manager_Num_Products2\"]\n",
    "\n",
    "# Proximity of agent's location from work\n",
    "combine_agent['Agent_proximity']=combine_agent['Office_PIN']-combine_agent['Applicant_City_PIN']\n",
    "\n",
    "# Application conversion rate of manager - No. of recruitments\n",
    "combine_agent['Application_CVR']=(combine_agent['Manager_Num_Coded']/combine_agent['Manager_Num_Application'])*100"
   ]
  },
  {
   "cell_type": "code",
   "execution_count": 28,
   "id": "73fb2ba8-f934-4956-a2e4-cadff03b9404",
   "metadata": {},
   "outputs": [],
   "source": [
    "numerical_cols=['Office_PIN','Applicant_City_PIN', 'Manager_Num_Application', 'Manager_Num_Coded', 'Manager_Business',\n",
    "                'Manager_Num_Products','Manager_Business2', 'Manager_Num_Products2', 'ManagerExperience', 'ManagerAge', 'Manager_Business2_categoryA','Manager_Num_Products2_categoryA',\n",
    "               'Agent_proximity','Application_CVR','ApplicantAge', 'Manager_Grade']"
   ]
  },
  {
   "cell_type": "code",
   "execution_count": 29,
   "id": "2d8c3c91-a9a4-474f-a7e8-a9cd7bb1eb22",
   "metadata": {},
   "outputs": [],
   "source": [
    "for i in numerical_cols:\n",
    "    to_be_filled=combine_agent[i].mode()[0]\n",
    "    combine_agent[i].fillna(to_be_filled, inplace=True)"
   ]
  },
  {
   "cell_type": "markdown",
   "id": "2251a7c1",
   "metadata": {},
   "source": [
    "### Exploring and visualizing variables- Univariate and Bivariate analysis"
   ]
  },
  {
   "cell_type": "markdown",
   "id": "dea13167",
   "metadata": {},
   "source": [
    "#### (a) Exploring Categorical variables"
   ]
  },
  {
   "cell_type": "code",
   "execution_count": 30,
   "id": "269642f8",
   "metadata": {},
   "outputs": [
    {
     "data": {
      "text/plain": [
       "<Figure size 1296x1296 with 0 Axes>"
      ]
     },
     "metadata": {},
     "output_type": "display_data"
    },
    {
     "data": {
      "image/png": "[encoded data removed]",
      "text/plain": [
       "<Figure size 1296x1296 with 4 Axes>"
      ]
     },
     "metadata": {
      "needs_background": "light"
     },
     "output_type": "display_data"
    }
   ],
   "source": [
    "plt.figure(figsize=(18,18))\n",
    "# sns.cubehelix_palette(as_cmap=True)\n",
    "\n",
    "# sns.set_style('ticks')\n",
    "\n",
    "fig,axs = plt.subplots(2,2, figsize=(18,18))\n",
    "sns.countplot(x='Applicant_Gender',hue='Business_Sourced',data=combine_agent, ax=axs[0,0], palette=\"Accent\")\n",
    "sns.countplot(x='Applicant_Marital_Status',hue='Business_Sourced',data=combine_agent, ax=axs[0,1], palette=\"Accent\")\n",
    "sns.countplot(x='Applicant_Occupation',hue='Business_Sourced',data=combine_agent, ax=axs[1,0], palette=\"Accent\")\n",
    "sns.countplot(x='Applicant_Qualification',hue='Business_Sourced',data=combine_agent, ax=axs[1,1],palette=\"Accent\")\n",
    "plt.show()\n"
   ]
  },
  {
   "cell_type": "code",
   "execution_count": 31,
   "id": "32fa6b15",
   "metadata": {
    "scrolled": true
   },
   "outputs": [
    {
     "data": {
      "text/plain": [
       "<Figure size 1296x1296 with 0 Axes>"
      ]
     },
     "metadata": {},
     "output_type": "display_data"
    },
    {
     "data": {
      "image/png": "[encoded data removed]",
      "text/plain": [
       "<Figure size 1296x1296 with 4 Axes>"
      ]
     },
     "metadata": {
      "needs_background": "light"
     },
     "output_type": "display_data"
    }
   ],
   "source": [
    "plt.figure(figsize=(18,18))\n",
    "# sns.cubehelix_palette(as_cmap=True)\n",
    "\n",
    "# sns.set_style('ticks')\n",
    "\n",
    "fig,axs = plt.subplots(2,2, figsize=(18,18))\n",
    "sns.countplot(x='Manager_Status',hue='Business_Sourced',data=combine_agent, ax=axs[0,0], palette=\"Accent\")\n",
    "sns.countplot(x='Manager_Gender',hue='Business_Sourced',data=combine_agent, ax=axs[0,1], palette=\"Accent\")\n",
    "sns.countplot(x='Manager_Joining_Designation',hue='Business_Sourced',data=combine_agent, ax=axs[1,0], palette=\"Accent\")\n",
    "sns.countplot(x='Manager_Current_Designation',hue='Business_Sourced',data=combine_agent, ax=axs[1,1], palette=\"Accent\")\n",
    "# axs.tick_params(axis='x', rotation=45)\n",
    "plt.show()\n"
   ]
  },
  {
   "cell_type": "markdown",
   "id": "4a02591e-f00b-43c5-894d-8833db445344",
   "metadata": {},
   "source": [
    "### Feature Engineering"
   ]
  },
  {
   "cell_type": "code",
   "execution_count": 32,
   "id": "38966117-285a-424c-b280-c5d412af77b8",
   "metadata": {},
   "outputs": [
    {
     "data": {
      "text/plain": [
       "Level 1    5849\n",
       "Level 2    4228\n",
       "Level 3    2483\n",
       "Level 4     408\n",
       "Other        58\n",
       "Level 6      21\n",
       "Level 5      16\n",
       "Level 7       2\n",
       "Name: Manager_Joining_Designation, dtype: int64"
      ]
     },
     "execution_count": 32,
     "metadata": {},
     "output_type": "execute_result"
    }
   ],
   "source": [
    "combine_agent[['Manager_Joining_Designation','Manager_Current_Designation']]\n",
    "combine_agent.Manager_Joining_Designation.value_counts()"
   ]
  },
  {
   "cell_type": "markdown",
   "id": "808e8cc8-2042-4330-8d53-35c26cb6404a",
   "metadata": {},
   "source": [
    "We can deduce that 58 Managers have joining designation as \"Other\". This could be due to the fact that they were early employess and did not have a track of the designation. So lets convert all \"Other\" to Level 1"
   ]
  },
  {
   "cell_type": "code",
   "execution_count": 33,
   "id": "2b1d99a2-7ab5-4187-af55-9167d4eb6176",
   "metadata": {},
   "outputs": [],
   "source": [
    "combine_agent['Manager_Joining_Designation']=combine_agent['Manager_Joining_Designation'].replace('Other','Level 1')"
   ]
  },
  {
   "cell_type": "code",
   "execution_count": 34,
   "id": "60811db5-b1ca-497f-9279-b44dc6f0fbfd",
   "metadata": {},
   "outputs": [
    {
     "data": {
      "text/plain": [
       "Level 1    5907\n",
       "Level 2    4228\n",
       "Level 3    2483\n",
       "Level 4     408\n",
       "Level 6      21\n",
       "Level 5      16\n",
       "Level 7       2\n",
       "Name: Manager_Joining_Designation, dtype: int64"
      ]
     },
     "execution_count": 34,
     "metadata": {},
     "output_type": "execute_result"
    }
   ],
   "source": [
    "combine_agent.Manager_Joining_Designation.value_counts()"
   ]
  },
  {
   "cell_type": "code",
   "execution_count": 35,
   "id": "4ad15595-b521-4ca5-907f-d6c8758e661a",
   "metadata": {},
   "outputs": [
    {
     "data": {
      "text/plain": [
       "Level 2    4648\n",
       "Level 3    3563\n",
       "Level 1    3366\n",
       "Level 4    1365\n",
       "Level 5     123\n",
       "Name: Manager_Current_Designation, dtype: int64"
      ]
     },
     "execution_count": 35,
     "metadata": {},
     "output_type": "execute_result"
    }
   ],
   "source": [
    "combine_agent.Manager_Current_Designation.value_counts()"
   ]
  },
  {
   "cell_type": "code",
   "execution_count": 36,
   "id": "117fa9ed-93c2-4bbe-883d-769ac360d4b4",
   "metadata": {},
   "outputs": [],
   "source": [
    "# Treating Null values\n",
    "\n",
    "# Filling with Level1 for Null values since it has more values for Manager joining Designation\n",
    "combine_agent['Manager_Joining_Designation'].fillna('Level 1', inplace=True)\n",
    "\n",
    "# Filling with Level2 for Null values since it has more values for Manager current Designation\n",
    "combine_agent['Manager_Current_Designation'].fillna('Level 2',inplace=True)\n"
   ]
  },
  {
   "cell_type": "code",
   "execution_count": 37,
   "id": "3090f36e-0223-47ca-a1ff-d3d91ca7d4a8",
   "metadata": {},
   "outputs": [],
   "source": [
    "combine_agent['Manager_Joining_Designation']=combine_agent.Manager_Joining_Designation.str.replace('Level ','', regex=True).astype(int)\n",
    "combine_agent['Manager_Current_Designation']=combine_agent.Manager_Current_Designation.str.replace('Level ','', regex=True).astype(int)\n",
    "# combine_agent['Manager_Joining_Designation'].astype(float)\n"
   ]
  },
  {
   "cell_type": "code",
   "execution_count": 38,
   "id": "3ca79c0e-f074-404f-bad2-c7d7bf9a16c9",
   "metadata": {},
   "outputs": [],
   "source": [
    "combine_agent['Manager_Level_Hops']=combine_agent['Manager_Current_Designation']-combine_agent['Manager_Joining_Designation']"
   ]
  },
  {
   "cell_type": "code",
   "execution_count": 39,
   "id": "78b9ecfd-de97-4786-a43e-d4250887754a",
   "metadata": {},
   "outputs": [
    {
     "data": {
      "text/plain": [
       " 0    9494\n",
       " 1    3315\n",
       " 2    1270\n",
       " 3     437\n",
       " 4      33\n",
       "-1      17\n",
       "-2       6\n",
       "Name: Manager_Level_Hops, dtype: int64"
      ]
     },
     "execution_count": 39,
     "metadata": {},
     "output_type": "execute_result"
    }
   ],
   "source": [
    "combine_agent.Manager_Level_Hops.value_counts()"
   ]
  },
  {
   "cell_type": "code",
   "execution_count": 40,
   "id": "c89e9d69-5d1d-4696-ae68-97678a64ba3e",
   "metadata": {},
   "outputs": [],
   "source": [
    "# Lets use the binning method to group Managers' levels\n",
    "\n",
    "mgr_growth_list=[]\n",
    "for levels in combine_agent['Manager_Level_Hops'].tolist():\n",
    "    if levels>3:\n",
    "        mgr_growth_list.append('High Growth')\n",
    "    elif levels>1:\n",
    "        mgr_growth_list.append('Medium Growth')\n",
    "    else:\n",
    "        mgr_growth_list.append('Low Growth')\n",
    "        \n",
    "combine_agent['Manager_Growth']= mgr_growth_list\n"
   ]
  },
  {
   "cell_type": "code",
   "execution_count": 41,
   "id": "e262d038-7691-4631-a8e0-0178a06b823e",
   "metadata": {},
   "outputs": [
    {
     "data": {
      "text/plain": [
       "<AxesSubplot:xlabel='Manager_Growth', ylabel='count'>"
      ]
     },
     "execution_count": 41,
     "metadata": {},
     "output_type": "execute_result"
    },
    {
     "data": {
      "image/png": "[encoded data removed]",
      "text/plain": [
       "<Figure size 432x288 with 1 Axes>"
      ]
     },
     "metadata": {
      "needs_background": "light"
     },
     "output_type": "display_data"
    }
   ],
   "source": [
    "sns.countplot(x='Manager_Growth',hue='Business_Sourced',data=combine_agent)"
   ]
  },
  {
   "cell_type": "code",
   "execution_count": 42,
   "id": "80a98932-d172-4d1c-bed4-e869a9526dbb",
   "metadata": {},
   "outputs": [
    {
     "data": {
      "text/plain": [
       "<AxesSubplot:xlabel='Manager_Growth', ylabel='count'>"
      ]
     },
     "execution_count": 42,
     "metadata": {},
     "output_type": "execute_result"
    },
    {
     "data": {
      "image/png": "[encoded data removed]",
      "text/plain": [
       "<Figure size 432x288 with 1 Axes>"
      ]
     },
     "metadata": {
      "needs_background": "light"
     },
     "output_type": "display_data"
    }
   ],
   "source": [
    "sns.countplot(x='Manager_Growth',hue='Business_Sourced',data = combine_agent[combine_agent.Manager_Growth=='High Growth'])"
   ]
  },
  {
   "cell_type": "code",
   "execution_count": 43,
   "id": "d1b3b4f0-4e8e-47c8-9d09-b53e4ed24a2f",
   "metadata": {},
   "outputs": [],
   "source": [
    "categorical_cols=['Applicant_Gender','Applicant_Marital_Status','Applicant_Occupation',\n",
    "                   'Applicant_Qualification','Manager_Status','Manager_Gender','Manager_Joining_Designation',\n",
    "                 'Manager_Current_Designation','Manager_Growth']"
   ]
  },
  {
   "cell_type": "code",
   "execution_count": 44,
   "id": "4785e2d8-ce4e-46af-8d03-cadcb55d4f34",
   "metadata": {},
   "outputs": [],
   "source": [
    "# Filling null values for categorical variables:\n",
    "\n",
    "for i in categorical_cols:\n",
    "    combine_agent[i].fillna('Unknown', inplace=True)"
   ]
  },
  {
   "cell_type": "code",
   "execution_count": 45,
   "id": "68cb9bfa-c584-42d1-9c04-a6a5e32d0548",
   "metadata": {},
   "outputs": [],
   "source": [
    "from sklearn.preprocessing import LabelEncoder\n",
    "\n",
    "categorical_cols=['Applicant_Gender','Applicant_Marital_Status','Applicant_Occupation',\n",
    "                   'Applicant_Qualification','Manager_Status','Manager_Gender','Manager_Joining_Designation',\n",
    "                 'Manager_Current_Designation','Manager_Growth']\n",
    "\n",
    "for cat in categorical_cols:\n",
    "    combine_agent[cat].fillna('Unknown', inplace=True)\n",
    "    le= LabelEncoder()\n",
    "    combine_agent[cat]= le.fit_transform(combine_agent[cat])"
   ]
  },
  {
   "cell_type": "markdown",
   "id": "a831366e",
   "metadata": {},
   "source": [
    "#### (b) Exploring Date type variables"
   ]
  },
  {
   "cell_type": "code",
   "execution_count": 46,
   "id": "8f1cb8e8",
   "metadata": {},
   "outputs": [],
   "source": [
    "date_columns=['Applicant_BirthDate','Manager_DOJ','Manager_DoB', 'Application_Receipt_Date']"
   ]
  },
  {
   "cell_type": "code",
   "execution_count": 47,
   "id": "05e7efe3",
   "metadata": {},
   "outputs": [
    {
     "data": {
      "image/png": "[encoded data removed]",
      "text/plain": [
       "<Figure size 432x288 with 1 Axes>"
      ]
     },
     "metadata": {
      "needs_background": "light"
     },
     "output_type": "display_data"
    }
   ],
   "source": [
    "combine_agent= combine_agent.sort_values('Application_Receipt_Date',ascending=True)\n",
    "ax=sns.histplot(combine_agent['Application_Receipt_Date'])\n",
    "ax.tick_params(axis='x', rotation=45)"
   ]
  },
  {
   "cell_type": "code",
   "execution_count": 48,
   "id": "052bfec4-dcd2-4dab-b767-99e13905bebf",
   "metadata": {},
   "outputs": [
    {
     "name": "stderr",
     "output_type": "stream",
     "text": [
      "<ipython-input-48-6b25a9012da8>:6: SettingWithCopyWarning: \n",
      "A value is trying to be set on a copy of a slice from a DataFrame.\n",
      "Try using .loc[row_indexer,col_indexer] = value instead\n",
      "\n",
      "See the caveats in the documentation: https://pandas.pydata.org/pandas-docs/stable/user_guide/indexing.html#returning-a-view-versus-a-copy\n",
      "  test_agent_copy['Application_Order'] = range(0, len(test_agent_copy))\n",
      "<ipython-input-48-6b25a9012da8>:7: SettingWithCopyWarning: \n",
      "A value is trying to be set on a copy of a slice from a DataFrame.\n",
      "Try using .loc[row_indexer,col_indexer] = value instead\n",
      "\n",
      "See the caveats in the documentation: https://pandas.pydata.org/pandas-docs/stable/user_guide/indexing.html#returning-a-view-versus-a-copy\n",
      "  train_agent_copy['Application_Order'] = range(0, len(train_agent_copy))\n"
     ]
    }
   ],
   "source": [
    "# Sorting the order of Applications_Receipt_Date\n",
    "\n",
    "test_agent_copy=combine_agent[combine_agent.source=='test']\n",
    "train_agent_copy=combine_agent[combine_agent.source=='train']\n",
    "\n",
    "test_agent_copy['Application_Order'] = range(0, len(test_agent_copy))\n",
    "train_agent_copy['Application_Order'] = range(0, len(train_agent_copy))\n",
    "\n",
    "combine_agent= train_agent_copy.append(test_agent_copy)"
   ]
  },
  {
   "cell_type": "code",
   "execution_count": 49,
   "id": "c57929eb-77b7-4207-af48-daf0260bfa06",
   "metadata": {},
   "outputs": [
    {
     "data": {
      "image/png": "[encoded data removed]",
      "text/plain": [
       "<Figure size 432x288 with 1 Axes>"
      ]
     },
     "metadata": {
      "needs_background": "light"
     },
     "output_type": "display_data"
    }
   ],
   "source": [
    "ax=sns.histplot(combine_agent['Applicant_BirthDate'])\n",
    "ax.tick_params(axis='x', rotation=45)"
   ]
  },
  {
   "cell_type": "markdown",
   "id": "8ee2c60c",
   "metadata": {},
   "source": [
    "### Handling Null values and Type conversion of Date columns"
   ]
  },
  {
   "cell_type": "code",
   "execution_count": 50,
   "id": "d53d9d28",
   "metadata": {},
   "outputs": [],
   "source": [
    "for j in date_columns:\n",
    "    combine_agent[j].fillna(('1/1/1900'), inplace=True)"
   ]
  },
  {
   "cell_type": "code",
   "execution_count": 51,
   "id": "06355410",
   "metadata": {},
   "outputs": [],
   "source": [
    "combine_agent['today']= pd.to_datetime(datetime.date.today())"
   ]
  },
  {
   "cell_type": "code",
   "execution_count": 52,
   "id": "59f1a385",
   "metadata": {},
   "outputs": [],
   "source": [
    "for i in date_columns:\n",
    "    combine_agent[i]= pd.to_datetime(combine_agent[i])\n",
    "    combine_agent[i + '_date_diff']= (combine_agent['today']- combine_agent[i])\n",
    "    combine_agent[i + '_date_diff']=(combine_agent[i + '_date_diff']/np.timedelta64(1, 'D')).astype('int')"
   ]
  },
  {
   "cell_type": "markdown",
   "id": "b31e16f7",
   "metadata": {},
   "source": [
    "Feature Engineering using date column - Let us create a column that ranks the application on the order at which the application is received in a day"
   ]
  },
  {
   "cell_type": "code",
   "execution_count": 53,
   "id": "3f2231d1",
   "metadata": {},
   "outputs": [
    {
     "name": "stderr",
     "output_type": "stream",
     "text": [
      "<ipython-input-53-8e7a6e203ccf>:4: SettingWithCopyWarning: \n",
      "A value is trying to be set on a copy of a slice from a DataFrame\n",
      "\n",
      "See the caveats in the documentation: https://pandas.pydata.org/pandas-docs/stable/user_guide/indexing.html#returning-a-view-versus-a-copy\n",
      "  train_agent_copy.sort_values(by=['Application_Receipt_Date','ID'], inplace=True)\n",
      "<ipython-input-53-8e7a6e203ccf>:5: SettingWithCopyWarning: \n",
      "A value is trying to be set on a copy of a slice from a DataFrame.\n",
      "Try using .loc[row_indexer,col_indexer] = value instead\n",
      "\n",
      "See the caveats in the documentation: https://pandas.pydata.org/pandas-docs/stable/user_guide/indexing.html#returning-a-view-versus-a-copy\n",
      "  train_agent_copy['application_rank'] = (train_agent_copy.groupby('Application_Receipt_Date')['ID'].cumcount()+1)\n",
      "<ipython-input-53-8e7a6e203ccf>:7: SettingWithCopyWarning: \n",
      "A value is trying to be set on a copy of a slice from a DataFrame\n",
      "\n",
      "See the caveats in the documentation: https://pandas.pydata.org/pandas-docs/stable/user_guide/indexing.html#returning-a-view-versus-a-copy\n",
      "  test_agent_copy.sort_values(by=['Application_Receipt_Date','ID'], inplace=True)\n",
      "<ipython-input-53-8e7a6e203ccf>:8: SettingWithCopyWarning: \n",
      "A value is trying to be set on a copy of a slice from a DataFrame.\n",
      "Try using .loc[row_indexer,col_indexer] = value instead\n",
      "\n",
      "See the caveats in the documentation: https://pandas.pydata.org/pandas-docs/stable/user_guide/indexing.html#returning-a-view-versus-a-copy\n",
      "  test_agent_copy['application_rank'] = (test_agent_copy.groupby('Application_Receipt_Date')['ID'].cumcount()+1)\n"
     ]
    }
   ],
   "source": [
    "train_agent_copy = combine_agent[combine_agent.source=='train']\n",
    "test_agent_copy = combine_agent[combine_agent.source=='test']\n",
    "\n",
    "train_agent_copy.sort_values(by=['Application_Receipt_Date','ID'], inplace=True)\n",
    "train_agent_copy['application_rank'] = (train_agent_copy.groupby('Application_Receipt_Date')['ID'].cumcount()+1)\n",
    "\n",
    "test_agent_copy.sort_values(by=['Application_Receipt_Date','ID'], inplace=True)\n",
    "test_agent_copy['application_rank'] = (test_agent_copy.groupby('Application_Receipt_Date')['ID'].cumcount()+1)\n",
    "\n",
    "combine_agent= train_agent_copy.append(test_agent_copy)"
   ]
  },
  {
   "cell_type": "markdown",
   "id": "ac68d32d-86d8-4521-aaa9-aa60d9e009db",
   "metadata": {},
   "source": [
    "### Performing data normalization on Datediff columns \n",
    "Data normalization transforms numeric columns to same scale and improves the performance of the model- the learning algorithm (esp when there are a lot of unordered data)"
   ]
  },
  {
   "cell_type": "code",
   "execution_count": 54,
   "id": "789ec504-d239-4955-b832-6cfd4291ae15",
   "metadata": {},
   "outputs": [],
   "source": [
    "# Min-max feature scaling using .min() and .max() methods\n",
    "date_columns=['Application_Order', 'Applicant_BirthDate_date_diff',\n",
    "       'Manager_DOJ_date_diff', 'Manager_DoB_date_diff',\n",
    "       'Application_Receipt_Date_date_diff']\n",
    "\n",
    "for i in date_columns:\n",
    "    combine_agent[i] = (combine_agent[i] - combine_agent[i].min()) / (combine_agent[i].max() - combine_agent[i].min())\n"
   ]
  },
  {
   "cell_type": "code",
   "execution_count": 55,
   "id": "ad7a6dde-dc5c-4a62-8262-32e27b56d261",
   "metadata": {},
   "outputs": [],
   "source": [
    " numerical_cols=['Office_PIN','Applicant_City_PIN', 'Manager_Num_Application', 'Manager_Num_Coded', 'Manager_Business',\n",
    "                'Manager_Num_Products','Manager_Business2', 'Manager_Num_Products2', 'ManagerExperience', 'ManagerAge', 'Manager_Business2_categoryA','Manager_Num_Products2_categoryA',\n",
    "               'Agent_proximity','Application_CVR','ApplicantAge', 'Manager_Grade']\n"
   ]
  },
  {
   "cell_type": "code",
   "execution_count": 56,
   "id": "4b5b7eb2-2249-4fba-ad75-e5568857f793",
   "metadata": {},
   "outputs": [],
   "source": [
    "# Dropping cols\n",
    "\n",
    "to_be_deleted= ['Application_Receipt_Date', 'Applicant_BirthDate','Manager_DOJ', 'Manager_DoB',\n",
    "        'Manager_Business2_categoryA',\n",
    "       'Manager_Num_Products2_categoryA', 'Agent_proximity',\n",
    "       'Manager_Level_Hops', 'today', \n",
    "       # Newly removed\n",
    "      'Manager_DOJ_date_diff', 'Manager_DoB_date_diff', 'Application_CVR', 'ApplicantAge', 'Manager_Grade',\n",
    "      'Applicant_Qualification'\n",
    "               ]\n",
    "combine_agent.drop(columns=to_be_deleted, inplace=True)"
   ]
  },
  {
   "cell_type": "markdown",
   "id": "79814935-6434-4256-beeb-761a9d7102b1",
   "metadata": {},
   "source": [
    "## Data Preprocessing"
   ]
  },
  {
   "cell_type": "code",
   "execution_count": 57,
   "id": "7e5b7b74-d5d3-4d02-8439-04024bfcb961",
   "metadata": {},
   "outputs": [],
   "source": [
    "# As a result of FE, 1/0 (infinity values) were introduced- replacing them with 0 again\n",
    "combine_agent.replace([np.inf, -np.inf], 0, inplace=True)\n",
    "\n",
    "train_agent = combine_agent[combine_agent.source == 'train'].drop(['source','ID'], axis=1)\n",
    "test_agent = combine_agent[combine_agent.source == 'test'].drop(['source','ID'], axis=1)"
   ]
  },
  {
   "cell_type": "code",
   "execution_count": 58,
   "id": "703cd09c-720a-4093-8c37-8eddfba4a08f",
   "metadata": {},
   "outputs": [],
   "source": [
    "num_cols=list(set(numerical_cols)-set(to_be_deleted))\n",
    "numerical_cols=train_agent[num_cols] #creating dataframe of only numeric cols- for standardization process"
   ]
  },
  {
   "cell_type": "markdown",
   "id": "a9ad909a-bc5b-485b-b001-1a83e1a3a934",
   "metadata": {},
   "source": [
    "#### 1. Standardizing the dataset"
   ]
  },
  {
   "cell_type": "code",
   "execution_count": 59,
   "id": "79dc8b49-5724-416d-935b-9d2e175b9f74",
   "metadata": {},
   "outputs": [],
   "source": [
    "# numerical_cols=['Office_PIN']\n",
    "from sklearn.preprocessing import StandardScaler\n",
    "sc= StandardScaler()\n",
    "data_sc= sc.fit_transform(numerical_cols)\n",
    "\n",
    "numerical_cols_std = pd.DataFrame(data_sc, columns=numerical_cols.columns.tolist())"
   ]
  },
  {
   "cell_type": "code",
   "execution_count": 60,
   "id": "4f271b3e-0d09-4529-99d6-5496da8e7532",
   "metadata": {},
   "outputs": [],
   "source": [
    "# Merge the standardized numerical columns dataframe (numerical_cols_std) to main training dataframe (train_agent)\n",
    "\n",
    "for col in numerical_cols_std.columns.to_list():\n",
    "    train_agent[col]=numerical_cols_std[col]"
   ]
  },
  {
   "cell_type": "markdown",
   "id": "eab93d3b-15a2-4c61-98f9-acb216e8bd40",
   "metadata": {},
   "source": [
    "#### 2. Preparing Test DF"
   ]
  },
  {
   "cell_type": "code",
   "execution_count": 61,
   "id": "5e6fd105-b027-49a1-8aad-a85bd25dee21",
   "metadata": {},
   "outputs": [],
   "source": [
    "# Preparing test file for final prediction\n",
    "test_agent.drop(columns='Business_Sourced', inplace=True)\n",
    "numerical_cols=test_agent[num_cols] #creating dataframe of only numeric cols- for standardization process\n",
    "data_sc= sc.transform(numerical_cols)\n",
    "numerical_cols_std = pd.DataFrame(data_sc, columns=numerical_cols.columns.tolist())\n",
    "\n",
    "# Merge the standardized numerical columns dataframe (numerical_cols_std) to main testing dataframe (test_agent)\n",
    "for col in numerical_cols_std.columns.to_list():\n",
    "    test_agent[col]=numerical_cols_std[col]"
   ]
  },
  {
   "cell_type": "markdown",
   "id": "136b0d3b-0319-47b3-88f7-909a1f3fff2d",
   "metadata": {},
   "source": [
    "## Model Building"
   ]
  },
  {
   "cell_type": "code",
   "execution_count": 62,
   "id": "3143a141-ff0a-4359-b571-f50d872f4d25",
   "metadata": {},
   "outputs": [],
   "source": [
    "from imblearn.over_sampling import SMOTE\n",
    "from sklearn.metrics import accuracy_score, roc_auc_score, precision_score, recall_score\n",
    "from sklearn.model_selection import train_test_split\n",
    "from sklearn.linear_model import LogisticRegressionCV\n",
    "from sklearn.linear_model import LogisticRegression\n",
    "from sklearn.metrics import confusion_matrix\n",
    "from sklearn.metrics import classification_report\n",
    "from sklearn.metrics import plot_roc_curve\n",
    "from sklearn.discriminant_analysis import LinearDiscriminantAnalysis\n",
    "from sklearn.ensemble import RandomForestClassifier\n",
    "from xgboost import XGBClassifier\n",
    "\n",
    "from sklearn.pipeline import Pipeline\n",
    "from sklearn.ensemble import AdaBoostClassifier\n",
    "from sklearn.ensemble import GradientBoostingClassifier\n",
    "from sklearn import model_selection\n",
    "from sklearn.model_selection import cross_val_score\n",
    "from sklearn.feature_selection import SelectFromModel\n",
    "from sklearn.model_selection import KFold, StratifiedKFold\n",
    "from catboost import CatBoostClassifier\n",
    "from lightgbm import LGBMClassifier\n",
    "from xgboost import XGBClassifier"
   ]
  },
  {
   "cell_type": "code",
   "execution_count": 63,
   "id": "5e717d6a-67ae-49df-bc24-39e2c6fb986b",
   "metadata": {
    "scrolled": true
   },
   "outputs": [],
   "source": [
    "#Changing datatype of target Variable to int (as expected)\n",
    "\n",
    "y=train_agent['Business_Sourced'].astype('int')\n",
    "X=train_agent.drop(columns=['Business_Sourced'])"
   ]
  },
  {
   "cell_type": "code",
   "execution_count": 64,
   "id": "9c7ba94c-5734-463b-873d-0a62ceaa305d",
   "metadata": {},
   "outputs": [],
   "source": [
    "X_train, X_test, y_train, y_test = train_test_split(X, y, test_size=0.2, random_state=30, stratify=y)"
   ]
  },
  {
   "cell_type": "code",
   "execution_count": 65,
   "id": "aa4201b3",
   "metadata": {},
   "outputs": [
    {
     "data": {
      "text/plain": [
       "LogisticRegression(solver='liblinear')"
      ]
     },
     "execution_count": 65,
     "metadata": {},
     "output_type": "execute_result"
    }
   ],
   "source": [
    "LR = LogisticRegression(solver='liblinear')\n",
    "LR.fit(X_train, y_train)   # training should be done on the training set."
   ]
  },
  {
   "cell_type": "code",
   "execution_count": 66,
   "id": "50bd1f14",
   "metadata": {},
   "outputs": [
    {
     "data": {
      "text/plain": [
       "0.7520010497310065"
      ]
     },
     "execution_count": 66,
     "metadata": {},
     "output_type": "execute_result"
    }
   ],
   "source": [
    "LR.score(X_train, y_train)"
   ]
  },
  {
   "cell_type": "code",
   "execution_count": 67,
   "id": "17f9514a",
   "metadata": {},
   "outputs": [
    {
     "data": {
      "text/plain": [
       "0.7507869884575026"
      ]
     },
     "execution_count": 67,
     "metadata": {},
     "output_type": "execute_result"
    }
   ],
   "source": [
    "LR.score(X_test, y_test)"
   ]
  },
  {
   "cell_type": "markdown",
   "id": "0c358dbf",
   "metadata": {},
   "source": [
    "Score of Test and train results are same, implying there are not bias or overfitting from training set"
   ]
  },
  {
   "cell_type": "code",
   "execution_count": 68,
   "id": "5530d303-703a-4e17-982e-4f3d226fb35b",
   "metadata": {},
   "outputs": [
    {
     "name": "stdout",
     "output_type": "stream",
     "text": [
      "              precision    recall  f1-score   support\n",
      "\n",
      "           0       0.80      0.83      0.81      1252\n",
      "           1       0.65      0.60      0.62       654\n",
      "\n",
      "    accuracy                           0.75      1906\n",
      "   macro avg       0.72      0.72      0.72      1906\n",
      "weighted avg       0.75      0.75      0.75      1906\n",
      "\n"
     ]
    }
   ],
   "source": [
    "LR = LogisticRegression(solver='liblinear')\n",
    "LR.fit(X_train, y_train)   # training should be done on the training set.\n",
    "# fetch the accuracy of the model\n",
    "LR.score(X_test, y_test)\n",
    "\n",
    "y_pred = LR.predict(X_test)  # predicted classs labels\n",
    "y_pred[:20]\n",
    "\n",
    "# Fetch the prob\n",
    "prob_values = LR.predict_proba(X_test)\n",
    "prob_values\n",
    "\n",
    "print(classification_report(y_test, y_pred))"
   ]
  },
  {
   "cell_type": "code",
   "execution_count": 69,
   "id": "89ca42b1-320a-40c8-8dd0-9136847062ba",
   "metadata": {},
   "outputs": [
    {
     "data": {
      "text/plain": [
       "<sklearn.metrics._plot.roc_curve.RocCurveDisplay at 0x1fe1d7be5e0>"
      ]
     },
     "execution_count": 69,
     "metadata": {},
     "output_type": "execute_result"
    },
    {
     "data": {
      "image/png": "[encoded data removed]",
      "text/plain": [
       "<Figure size 432x288 with 1 Axes>"
      ]
     },
     "metadata": {
      "needs_background": "light"
     },
     "output_type": "display_data"
    }
   ],
   "source": [
    "plot_roc_curve(LR, X_test, y_test) "
   ]
  },
  {
   "cell_type": "code",
   "execution_count": 70,
   "id": "35ed1344-90f1-4198-9699-a0ee81ccd423",
   "metadata": {},
   "outputs": [],
   "source": [
    "lr_pred_final= LR.predict_proba(test_agent)\n",
    "\n",
    "lr_df = pd.DataFrame(lr_pred_final, columns=['Not_Business_Sourced', 'Business_Sourced'])\n",
    "lr_df.drop(columns=['Not_Business_Sourced'], inplace=True)\n",
    "lr_df.insert(0, 'ID', combine_agent[combine_agent.source=='test']['ID'].tolist())"
   ]
  },
  {
   "cell_type": "code",
   "execution_count": 71,
   "id": "2517f3b7-965d-486e-924a-ea89f0e2e982",
   "metadata": {},
   "outputs": [],
   "source": [
    "lr_df.to_csv('lr_agent_recruitment.csv',index=False)"
   ]
  },
  {
   "cell_type": "code",
   "execution_count": 72,
   "id": "961802e0",
   "metadata": {},
   "outputs": [
    {
     "data": {
      "text/plain": [
       "0.7521322661068102"
      ]
     },
     "execution_count": 72,
     "metadata": {},
     "output_type": "execute_result"
    }
   ],
   "source": [
    "# Now that we have a simple logistic regression, let us use a cross validation on top of this\n",
    "\n",
    "LR_cv = LogisticRegressionCV(cv=7,solver='liblinear',random_state=30)\n",
    "LR_cv.fit(X_train, y_train)\n",
    "LR_cv.score(X_train, y_train)"
   ]
  },
  {
   "cell_type": "code",
   "execution_count": 73,
   "id": "620301fc",
   "metadata": {},
   "outputs": [
    {
     "data": {
      "text/plain": [
       "0.7523609653725079"
      ]
     },
     "execution_count": 73,
     "metadata": {},
     "output_type": "execute_result"
    }
   ],
   "source": [
    "LR_cv.score(X_test, y_test)"
   ]
  },
  {
   "cell_type": "code",
   "execution_count": 74,
   "id": "b6ab4f53",
   "metadata": {},
   "outputs": [
    {
     "data": {
      "text/plain": [
       "<sklearn.metrics._plot.roc_curve.RocCurveDisplay at 0x1fe1dbaff70>"
      ]
     },
     "execution_count": 74,
     "metadata": {},
     "output_type": "execute_result"
    },
    {
     "data": {
      "image/png": "[encoded data removed]",
      "text/plain": [
       "<Figure size 432x288 with 1 Axes>"
      ]
     },
     "metadata": {
      "needs_background": "light"
     },
     "output_type": "display_data"
    }
   ],
   "source": [
    "plot_roc_curve(LR_cv, X_test, y_test) "
   ]
  },
  {
   "cell_type": "code",
   "execution_count": 75,
   "id": "4c4bff8f",
   "metadata": {},
   "outputs": [
    {
     "name": "stdout",
     "output_type": "stream",
     "text": [
      "              precision    recall  f1-score   support\n",
      "\n",
      "           0       0.80      0.84      0.82      1252\n",
      "           1       0.65      0.59      0.62       654\n",
      "\n",
      "    accuracy                           0.75      1906\n",
      "   macro avg       0.73      0.71      0.72      1906\n",
      "weighted avg       0.75      0.75      0.75      1906\n",
      "\n"
     ]
    }
   ],
   "source": [
    "y_pred = LR_cv.predict(X_test)  # predicted classs labels\n",
    "y_pred[:20]\n",
    "\n",
    "# Fetch the prob\n",
    "prob_values = LR_cv.predict_proba(X_test)\n",
    "prob_values\n",
    "\n",
    "print(classification_report(y_test, y_pred))"
   ]
  },
  {
   "cell_type": "code",
   "execution_count": 76,
   "id": "704ecdb4",
   "metadata": {},
   "outputs": [],
   "source": [
    "lr_cv_pred_final= LR_cv.predict_proba(test_agent)\n",
    "\n",
    "lr_cv_df = pd.DataFrame(lr_cv_pred_final, columns=['Not_Business_Sourced', 'Business_Sourced'])\n",
    "lr_cv_df.drop(columns=['Not_Business_Sourced'], inplace=True)\n",
    "lr_cv_df.insert(0, 'ID', combine_agent[combine_agent.source=='test']['ID'].tolist())\n",
    "\n",
    "lr_df.to_csv('lr_cv_agent_recruitment.csv',index=False)"
   ]
  },
  {
   "cell_type": "markdown",
   "id": "c9316442",
   "metadata": {},
   "source": [
    "#### Trying out other models"
   ]
  },
  {
   "cell_type": "code",
   "execution_count": 77,
   "id": "09f6e5af-cfec-468a-8bac-dbc011000e6c",
   "metadata": {},
   "outputs": [],
   "source": [
    "# Let us use this with cross validation to get better results\n",
    "\n",
    "def my_cross_validation_model(train,targets,model,params, folds=9):    \n",
    "    skf = StratifiedKFold(n_splits=folds, shuffle=True, random_state=21)\n",
    "    for fold, (train_temp,test_temp) in enumerate(skf.split(train,targets)):\n",
    "        \n",
    "        # Split trining and test for cross validation\n",
    "        x_train,y_train = train.iloc[train_temp], targets.iloc[train_temp]\n",
    "        x_test,y_test = train.iloc[test_temp],targets.iloc[test_temp]\n",
    "    \n",
    "        models=model(**params)\n",
    "        models.fit(x_train,y_train,\n",
    "                  eval_set=[(x_test, y_test)],\n",
    "                  early_stopping_rounds=100,\n",
    "                  verbose=400\n",
    "                  )\n",
    "    \n",
    "        pred = models.predict_proba(x_test)[:, 1]\n",
    "        roc = roc_auc_score(y_test, pred)\n",
    "        print(f\"roc_auc_score: {roc}\")\n",
    "        print(\"-\"*50)\n",
    "        \n",
    "    return models"
   ]
  },
  {
   "cell_type": "code",
   "execution_count": 78,
   "id": "29af014b-f659-491f-9fe1-9df0b4e95908",
   "metadata": {},
   "outputs": [
    {
     "data": {
      "text/plain": [
       "RandomForestClassifier(n_estimators=200, random_state=42)"
      ]
     },
     "execution_count": 78,
     "metadata": {},
     "output_type": "execute_result"
    }
   ],
   "source": [
    "# rfc= RandomForestClassifier()\n",
    "rfc_params = {\n",
    "    'n_estimators':200, 'random_state':42\n",
    "}\n",
    "result_rfc= RandomForestClassifier(**rfc_params)\n",
    "# result_rfc = my_cross_validation_model(X_train,y_train,RandomForestClassifier,rfc_params)\n",
    "\n",
    "result_rfc.fit(X_train, y_train)"
   ]
  },
  {
   "cell_type": "code",
   "execution_count": 79,
   "id": "f1054259-9387-48a4-ad09-3d6a7f53a75f",
   "metadata": {},
   "outputs": [
    {
     "data": {
      "text/plain": [
       "0.7180987484245391"
      ]
     },
     "execution_count": 79,
     "metadata": {},
     "output_type": "execute_result"
    }
   ],
   "source": [
    "rfc_pred = result_rfc.predict(X_test)\n",
    "\n",
    "rfc_auc = roc_auc_score(y_test, rfc_pred)\n",
    "rfc_auc"
   ]
  },
  {
   "cell_type": "code",
   "execution_count": 80,
   "id": "8e91bc2d-c02b-4386-bb8a-8fe5469dbe87",
   "metadata": {},
   "outputs": [
    {
     "data": {
      "text/plain": [
       "<sklearn.metrics._plot.roc_curve.RocCurveDisplay at 0x1fe187ffd60>"
      ]
     },
     "execution_count": 80,
     "metadata": {},
     "output_type": "execute_result"
    },
    {
     "data": {
      "image/png": "[encoded data removed]",
      "text/plain": [
       "<Figure size 432x288 with 1 Axes>"
      ]
     },
     "metadata": {
      "needs_background": "light"
     },
     "output_type": "display_data"
    }
   ],
   "source": [
    "plot_roc_curve(result_rfc, X_test, y_test) "
   ]
  },
  {
   "cell_type": "code",
   "execution_count": 81,
   "id": "4fa0a3f1",
   "metadata": {},
   "outputs": [],
   "source": [
    "rfc_pred_final= result_rfc.predict_proba(test_agent)\n",
    "\n",
    "rfc_df = pd.DataFrame(rfc_pred_final, columns=['Not_Business_Sourced', 'Business_Sourced'])\n",
    "rfc_df.drop(columns=['Not_Business_Sourced'], inplace=True)\n",
    "rfc_df.insert(0, 'ID', combine_agent[combine_agent.source=='test']['ID'].tolist())\n",
    "\n",
    "rfc_df.to_csv('rfc_agent_recruitment.csv',index=False)"
   ]
  },
  {
   "cell_type": "markdown",
   "id": "153f3256",
   "metadata": {},
   "source": [
    "RFC gave 71% but the logistic regression performed better"
   ]
  },
  {
   "cell_type": "code",
   "execution_count": 82,
   "id": "a7921d64-3578-4e96-ac8f-90de6a39c808",
   "metadata": {},
   "outputs": [
    {
     "data": {
      "text/plain": [
       "[('LR', LogisticRegression(solver='liblinear')),\n",
       " ('LDA', LinearDiscriminantAnalysis()),\n",
       " ('CART', DecisionTreeClassifier()),\n",
       " ('XGB',\n",
       "  XGBClassifier(base_score=None, booster=None, colsample_bylevel=None,\n",
       "                colsample_bynode=None, colsample_bytree=None,\n",
       "                enable_categorical=False, gamma=None, gpu_id=None,\n",
       "                importance_type=None, interaction_constraints=None,\n",
       "                learning_rate=None, max_delta_step=None, max_depth=None,\n",
       "                min_child_weight=None, missing=nan, monotone_constraints=None,\n",
       "                n_estimators=100, n_jobs=None, num_parallel_tree=None,\n",
       "                predictor=None, random_state=None, reg_alpha=None,\n",
       "                reg_lambda=None, scale_pos_weight=None, subsample=None,\n",
       "                tree_method=None, validate_parameters=None, verbosity=None)),\n",
       " ('LGBM', LGBMClassifier())]"
      ]
     },
     "execution_count": 82,
     "metadata": {},
     "output_type": "execute_result"
    }
   ],
   "source": [
    "models = []\n",
    "models.append(('LR', LogisticRegression(solver='liblinear')))\n",
    "models.append(('LDA', LinearDiscriminantAnalysis()))\n",
    "models.append(('CART', DecisionTreeClassifier()))\n",
    "models.append(('XGB', XGBClassifier()))\n",
    "models.append(('LGBM', LGBMClassifier()))\n",
    "# models.append(('SVM', SVC()))\n",
    "\n",
    "models # we have created a list of models which will be tried!!"
   ]
  },
  {
   "cell_type": "code",
   "execution_count": 83,
   "id": "71c89e29-f8be-4d2c-b117-94c9e9d7b5bb",
   "metadata": {},
   "outputs": [
    {
     "name": "stderr",
     "output_type": "stream",
     "text": [
      "C:\\Users\\gayathri.gopalan\\Anaconda3\\lib\\site-packages\\xgboost\\sklearn.py:1224: UserWarning: The use of label encoder in XGBClassifier is deprecated and will be removed in a future release. To remove this warning, do the following: 1) Pass option use_label_encoder=False when constructing XGBClassifier object; and 2) Encode your labels (y) as integers starting with 0, i.e. 0, 1, 2, ..., [num_class - 1].\n",
      "  warnings.warn(label_encoder_deprecation_msg, UserWarning)\n"
     ]
    },
    {
     "name": "stdout",
     "output_type": "stream",
     "text": [
      "[23:01:16] WARNING: C:/Users/Administrator/workspace/xgboost-win64_release_1.5.0/src/learner.cc:1115: Starting in XGBoost 1.3.0, the default evaluation metric used with the objective 'binary:logistic' was changed from 'error' to 'logloss'. Explicitly set eval_metric if you'd like to restore the old behavior.\n"
     ]
    }
   ],
   "source": [
    "scores = []\n",
    "names = []\n",
    "for name, model in models:\n",
    "    model.fit(X_train, y_train)\n",
    "    names.append(name)\n",
    "    scores.append(model.score(X_test, y_test) )"
   ]
  },
  {
   "cell_type": "code",
   "execution_count": 84,
   "id": "9cf8550d-59da-4fee-b45a-b4ec92057a0b",
   "metadata": {},
   "outputs": [
    {
     "data": {
      "text/plain": [
       "(['LR', 'LDA', 'CART', 'XGB', 'LGBM'],\n",
       " [0.7507869884575026,\n",
       "  0.7303252885624344,\n",
       "  0.7130115424973767,\n",
       "  0.7696747114375656,\n",
       "  0.789087093389297])"
      ]
     },
     "execution_count": 84,
     "metadata": {},
     "output_type": "execute_result"
    }
   ],
   "source": [
    "names, scores"
   ]
  },
  {
   "cell_type": "markdown",
   "id": "3852e164",
   "metadata": {},
   "source": [
    "Looking at the scores (accuracy) of all the methods tried above, LGBM and XGB Classifier seems to be the best out of the lot."
   ]
  },
  {
   "cell_type": "markdown",
   "id": "72a84c88",
   "metadata": {},
   "source": [
    "## XGBoost"
   ]
  },
  {
   "cell_type": "code",
   "execution_count": 85,
   "id": "55337ead",
   "metadata": {},
   "outputs": [],
   "source": [
    "xgb = XGBClassifier()"
   ]
  },
  {
   "cell_type": "code",
   "execution_count": 86,
   "id": "4181cf45",
   "metadata": {},
   "outputs": [],
   "source": [
    "# grid search\n",
    "model = XGBClassifier()\n",
    "n_estimators = range(50, 400, 50)\n",
    "param_grid = {'n_estimators': n_estimators, 'max_depth': [3,4,5]}\n",
    "kfold = StratifiedKFold(n_splits=10, shuffle=True, random_state=7)\n",
    "grid_search = GridSearchCV(model, param_grid, scoring=\"neg_log_loss\", n_jobs=-1, cv=kfold)\n",
    "# grid_result = grid_search.fit(X_train, y_train)\n",
    "\n",
    "# summarize results\n",
    "# print(\"Best: %f using %s\" % (grid_result.best_score_, grid_result.best_params_))\n",
    "# means = grid_result.cv_results_['mean_test_score']\n",
    "# stds = grid_result.cv_results_['std_test_score']\n",
    "# params = grid_result.cv_results_['params']\n",
    "\n",
    "# for mean, stdev, param in zip(means, stds, params):\n",
    "#     print(\"%f (%f) with: %r\" % (mean, stdev, param))"
   ]
  },
  {
   "cell_type": "code",
   "execution_count": 87,
   "id": "ae2f2a05",
   "metadata": {},
   "outputs": [
    {
     "name": "stdout",
     "output_type": "stream",
     "text": [
      "[23:01:31] WARNING: C:/Users/Administrator/workspace/xgboost-win64_release_1.5.0/src/learner.cc:1115: Starting in XGBoost 1.3.0, the default evaluation metric used with the objective 'binary:logistic' was changed from 'error' to 'logloss'. Explicitly set eval_metric if you'd like to restore the old behavior.\n",
      "[0]\tvalidation_0-logloss:0.61268\n"
     ]
    },
    {
     "name": "stderr",
     "output_type": "stream",
     "text": [
      "C:\\Users\\gayathri.gopalan\\Anaconda3\\lib\\site-packages\\xgboost\\sklearn.py:1224: UserWarning: The use of label encoder in XGBClassifier is deprecated and will be removed in a future release. To remove this warning, do the following: 1) Pass option use_label_encoder=False when constructing XGBClassifier object; and 2) Encode your labels (y) as integers starting with 0, i.e. 0, 1, 2, ..., [num_class - 1].\n",
      "  warnings.warn(label_encoder_deprecation_msg, UserWarning)\n"
     ]
    },
    {
     "name": "stdout",
     "output_type": "stream",
     "text": [
      "[199]\tvalidation_0-logloss:0.43458\n",
      "roc_auc_score: 0.8636228564353371\n",
      "--------------------------------------------------\n",
      "[23:01:33] WARNING: C:/Users/Administrator/workspace/xgboost-win64_release_1.5.0/src/learner.cc:1115: Starting in XGBoost 1.3.0, the default evaluation metric used with the objective 'binary:logistic' was changed from 'error' to 'logloss'. Explicitly set eval_metric if you'd like to restore the old behavior.\n",
      "[0]\tvalidation_0-logloss:0.61416\n"
     ]
    },
    {
     "name": "stderr",
     "output_type": "stream",
     "text": [
      "C:\\Users\\gayathri.gopalan\\Anaconda3\\lib\\site-packages\\xgboost\\sklearn.py:1224: UserWarning: The use of label encoder in XGBClassifier is deprecated and will be removed in a future release. To remove this warning, do the following: 1) Pass option use_label_encoder=False when constructing XGBClassifier object; and 2) Encode your labels (y) as integers starting with 0, i.e. 0, 1, 2, ..., [num_class - 1].\n",
      "  warnings.warn(label_encoder_deprecation_msg, UserWarning)\n"
     ]
    },
    {
     "name": "stdout",
     "output_type": "stream",
     "text": [
      "[199]\tvalidation_0-logloss:0.43416\n",
      "roc_auc_score: 0.8608493778245528\n",
      "--------------------------------------------------\n",
      "[23:01:34] WARNING: C:/Users/Administrator/workspace/xgboost-win64_release_1.5.0/src/learner.cc:1115: Starting in XGBoost 1.3.0, the default evaluation metric used with the objective 'binary:logistic' was changed from 'error' to 'logloss'. Explicitly set eval_metric if you'd like to restore the old behavior.\n",
      "[0]\tvalidation_0-logloss:0.61055\n"
     ]
    },
    {
     "name": "stderr",
     "output_type": "stream",
     "text": [
      "C:\\Users\\gayathri.gopalan\\Anaconda3\\lib\\site-packages\\xgboost\\sklearn.py:1224: UserWarning: The use of label encoder in XGBClassifier is deprecated and will be removed in a future release. To remove this warning, do the following: 1) Pass option use_label_encoder=False when constructing XGBClassifier object; and 2) Encode your labels (y) as integers starting with 0, i.e. 0, 1, 2, ..., [num_class - 1].\n",
      "  warnings.warn(label_encoder_deprecation_msg, UserWarning)\n"
     ]
    },
    {
     "name": "stdout",
     "output_type": "stream",
     "text": [
      "[199]\tvalidation_0-logloss:0.46383\n",
      "roc_auc_score: 0.8422336408097566\n",
      "--------------------------------------------------\n",
      "[23:01:35] WARNING: C:/Users/Administrator/workspace/xgboost-win64_release_1.5.0/src/learner.cc:1115: Starting in XGBoost 1.3.0, the default evaluation metric used with the objective 'binary:logistic' was changed from 'error' to 'logloss'. Explicitly set eval_metric if you'd like to restore the old behavior.\n",
      "[0]\tvalidation_0-logloss:0.61211\n"
     ]
    },
    {
     "name": "stderr",
     "output_type": "stream",
     "text": [
      "C:\\Users\\gayathri.gopalan\\Anaconda3\\lib\\site-packages\\xgboost\\sklearn.py:1224: UserWarning: The use of label encoder in XGBClassifier is deprecated and will be removed in a future release. To remove this warning, do the following: 1) Pass option use_label_encoder=False when constructing XGBClassifier object; and 2) Encode your labels (y) as integers starting with 0, i.e. 0, 1, 2, ..., [num_class - 1].\n",
      "  warnings.warn(label_encoder_deprecation_msg, UserWarning)\n"
     ]
    },
    {
     "name": "stdout",
     "output_type": "stream",
     "text": [
      "[199]\tvalidation_0-logloss:0.45713\n",
      "roc_auc_score: 0.8504024020305826\n",
      "--------------------------------------------------\n",
      "[23:01:36] WARNING: C:/Users/Administrator/workspace/xgboost-win64_release_1.5.0/src/learner.cc:1115: Starting in XGBoost 1.3.0, the default evaluation metric used with the objective 'binary:logistic' was changed from 'error' to 'logloss'. Explicitly set eval_metric if you'd like to restore the old behavior.\n",
      "[0]\tvalidation_0-logloss:0.61101\n"
     ]
    },
    {
     "name": "stderr",
     "output_type": "stream",
     "text": [
      "C:\\Users\\gayathri.gopalan\\Anaconda3\\lib\\site-packages\\xgboost\\sklearn.py:1224: UserWarning: The use of label encoder in XGBClassifier is deprecated and will be removed in a future release. To remove this warning, do the following: 1) Pass option use_label_encoder=False when constructing XGBClassifier object; and 2) Encode your labels (y) as integers starting with 0, i.e. 0, 1, 2, ..., [num_class - 1].\n",
      "  warnings.warn(label_encoder_deprecation_msg, UserWarning)\n"
     ]
    },
    {
     "name": "stdout",
     "output_type": "stream",
     "text": [
      "[199]\tvalidation_0-logloss:0.43206\n",
      "roc_auc_score: 0.8629076120546861\n",
      "--------------------------------------------------\n",
      "[23:01:38] WARNING: C:/Users/Administrator/workspace/xgboost-win64_release_1.5.0/src/learner.cc:1115: Starting in XGBoost 1.3.0, the default evaluation metric used with the objective 'binary:logistic' was changed from 'error' to 'logloss'. Explicitly set eval_metric if you'd like to restore the old behavior.\n",
      "[0]\tvalidation_0-logloss:0.61797\n"
     ]
    },
    {
     "name": "stderr",
     "output_type": "stream",
     "text": [
      "C:\\Users\\gayathri.gopalan\\Anaconda3\\lib\\site-packages\\xgboost\\sklearn.py:1224: UserWarning: The use of label encoder in XGBClassifier is deprecated and will be removed in a future release. To remove this warning, do the following: 1) Pass option use_label_encoder=False when constructing XGBClassifier object; and 2) Encode your labels (y) as integers starting with 0, i.e. 0, 1, 2, ..., [num_class - 1].\n",
      "  warnings.warn(label_encoder_deprecation_msg, UserWarning)\n"
     ]
    },
    {
     "name": "stdout",
     "output_type": "stream",
     "text": [
      "[199]\tvalidation_0-logloss:0.46088\n",
      "roc_auc_score: 0.8428144082672007\n",
      "--------------------------------------------------\n",
      "[23:01:39] WARNING: C:/Users/Administrator/workspace/xgboost-win64_release_1.5.0/src/learner.cc:1115: Starting in XGBoost 1.3.0, the default evaluation metric used with the objective 'binary:logistic' was changed from 'error' to 'logloss'. Explicitly set eval_metric if you'd like to restore the old behavior.\n",
      "[0]\tvalidation_0-logloss:0.60903\n"
     ]
    },
    {
     "name": "stderr",
     "output_type": "stream",
     "text": [
      "C:\\Users\\gayathri.gopalan\\Anaconda3\\lib\\site-packages\\xgboost\\sklearn.py:1224: UserWarning: The use of label encoder in XGBClassifier is deprecated and will be removed in a future release. To remove this warning, do the following: 1) Pass option use_label_encoder=False when constructing XGBClassifier object; and 2) Encode your labels (y) as integers starting with 0, i.e. 0, 1, 2, ..., [num_class - 1].\n",
      "  warnings.warn(label_encoder_deprecation_msg, UserWarning)\n"
     ]
    },
    {
     "name": "stdout",
     "output_type": "stream",
     "text": [
      "[199]\tvalidation_0-logloss:0.43669\n",
      "roc_auc_score: 0.8606702267052337\n",
      "--------------------------------------------------\n",
      "[23:01:40] WARNING: C:/Users/Administrator/workspace/xgboost-win64_release_1.5.0/src/learner.cc:1115: Starting in XGBoost 1.3.0, the default evaluation metric used with the objective 'binary:logistic' was changed from 'error' to 'logloss'. Explicitly set eval_metric if you'd like to restore the old behavior.\n",
      "[0]\tvalidation_0-logloss:0.60591\n"
     ]
    },
    {
     "name": "stderr",
     "output_type": "stream",
     "text": [
      "C:\\Users\\gayathri.gopalan\\Anaconda3\\lib\\site-packages\\xgboost\\sklearn.py:1224: UserWarning: The use of label encoder in XGBClassifier is deprecated and will be removed in a future release. To remove this warning, do the following: 1) Pass option use_label_encoder=False when constructing XGBClassifier object; and 2) Encode your labels (y) as integers starting with 0, i.e. 0, 1, 2, ..., [num_class - 1].\n",
      "  warnings.warn(label_encoder_deprecation_msg, UserWarning)\n"
     ]
    },
    {
     "name": "stdout",
     "output_type": "stream",
     "text": [
      "[199]\tvalidation_0-logloss:0.43327\n",
      "roc_auc_score: 0.86503349044902\n",
      "--------------------------------------------------\n",
      "[23:01:42] WARNING: C:/Users/Administrator/workspace/xgboost-win64_release_1.5.0/src/learner.cc:1115: Starting in XGBoost 1.3.0, the default evaluation metric used with the objective 'binary:logistic' was changed from 'error' to 'logloss'. Explicitly set eval_metric if you'd like to restore the old behavior.\n",
      "[0]\tvalidation_0-logloss:0.61529\n"
     ]
    },
    {
     "name": "stderr",
     "output_type": "stream",
     "text": [
      "C:\\Users\\gayathri.gopalan\\Anaconda3\\lib\\site-packages\\xgboost\\sklearn.py:1224: UserWarning: The use of label encoder in XGBClassifier is deprecated and will be removed in a future release. To remove this warning, do the following: 1) Pass option use_label_encoder=False when constructing XGBClassifier object; and 2) Encode your labels (y) as integers starting with 0, i.e. 0, 1, 2, ..., [num_class - 1].\n",
      "  warnings.warn(label_encoder_deprecation_msg, UserWarning)\n"
     ]
    },
    {
     "name": "stdout",
     "output_type": "stream",
     "text": [
      "[199]\tvalidation_0-logloss:0.45966\n",
      "roc_auc_score: 0.84110022326966\n",
      "--------------------------------------------------\n",
      "[23:01:43] WARNING: C:/Users/Administrator/workspace/xgboost-win64_release_1.5.0/src/learner.cc:1115: Starting in XGBoost 1.3.0, the default evaluation metric used with the objective 'binary:logistic' was changed from 'error' to 'logloss'. Explicitly set eval_metric if you'd like to restore the old behavior.\n"
     ]
    },
    {
     "name": "stderr",
     "output_type": "stream",
     "text": [
      "C:\\Users\\gayathri.gopalan\\Anaconda3\\lib\\site-packages\\xgboost\\sklearn.py:1224: UserWarning: The use of label encoder in XGBClassifier is deprecated and will be removed in a future release. To remove this warning, do the following: 1) Pass option use_label_encoder=False when constructing XGBClassifier object; and 2) Encode your labels (y) as integers starting with 0, i.e. 0, 1, 2, ..., [num_class - 1].\n",
      "  warnings.warn(label_encoder_deprecation_msg, UserWarning)\n"
     ]
    },
    {
     "data": {
      "text/plain": [
       "XGBClassifier(base_score=0.5, booster='gbtree', colsample_bylevel=1,\n",
       "              colsample_bynode=1, colsample_bytree=1, enable_categorical=False,\n",
       "              gamma=0, gpu_id=-1, importance_type=None,\n",
       "              interaction_constraints='', learning_rate=0.300000012,\n",
       "              max_delta_step=0, max_depth=3, min_child_weight=1, missing=nan,\n",
       "              monotone_constraints='()', n_estimators=200, n_jobs=8,\n",
       "              num_parallel_tree=1, predictor='auto', random_state=0,\n",
       "              reg_alpha=0, reg_lambda=1, scale_pos_weight=1, subsample=1,\n",
       "              tree_method='exact', validate_parameters=1, verbosity=None)"
      ]
     },
     "execution_count": 87,
     "metadata": {},
     "output_type": "execute_result"
    }
   ],
   "source": [
    "xgb_params= {'max_depth':3, 'n_estimators':200}\n",
    "# result_xgb=XGBClassifier(**xgb_params)\n",
    "result_xgb = my_cross_validation_model(X_train,y_train,XGBClassifier,xgb_params)\n",
    "result_xgb.fit(X_train, y_train)"
   ]
  },
  {
   "cell_type": "code",
   "execution_count": 88,
   "id": "36db0968",
   "metadata": {},
   "outputs": [
    {
     "data": {
      "text/plain": [
       "0.7450513429277682"
      ]
     },
     "execution_count": 88,
     "metadata": {},
     "output_type": "execute_result"
    }
   ],
   "source": [
    "xgb_pred = result_xgb.predict(X_test)\n",
    "\n",
    "xgb_auc = roc_auc_score(y_test, xgb_pred)\n",
    "xgb_auc"
   ]
  },
  {
   "cell_type": "code",
   "execution_count": 89,
   "id": "58bfd461",
   "metadata": {},
   "outputs": [
    {
     "data": {
      "text/plain": [
       "<sklearn.metrics._plot.roc_curve.RocCurveDisplay at 0x1fe18822a30>"
      ]
     },
     "execution_count": 89,
     "metadata": {},
     "output_type": "execute_result"
    },
    {
     "data": {
      "image/png": "[encoded data removed]",
      "text/plain": [
       "<Figure size 432x288 with 1 Axes>"
      ]
     },
     "metadata": {
      "needs_background": "light"
     },
     "output_type": "display_data"
    }
   ],
   "source": [
    "plot_roc_curve(result_xgb, X_test, y_test) "
   ]
  },
  {
   "cell_type": "code",
   "execution_count": 90,
   "id": "f6d1750a",
   "metadata": {},
   "outputs": [],
   "source": [
    "xgb_pred_final= result_xgb.predict_proba(test_agent)\n",
    "\n",
    "xgb_df = pd.DataFrame(xgb_pred_final, columns=['Not_Business_Sourced', 'Business_Sourced'])\n",
    "xgb_df.drop(columns=['Not_Business_Sourced'], inplace=True)\n",
    "xgb_df.insert(0, 'ID', combine_agent[combine_agent.source=='test']['ID'].tolist())\n",
    "\n",
    "xgb_df.to_csv('xgb_agent_recruitment.csv',index=False)"
   ]
  },
  {
   "cell_type": "code",
   "execution_count": 90,
   "id": "1efd0871-7dd3-4199-a42e-8d75aafe3f1d",
   "metadata": {
    "scrolled": true,
    "tags": []
   },
   "outputs": [],
   "source": [
    "# HP Tuning of XGB\n",
    "xgb_params_grid={'n_estimators': [100,500,1000,2000], \n",
    "             'max_depth': [3,4,5,6], \n",
    "             'subsaample': [0.6, 0.8, 1.0], \n",
    "             'colsample_bytree': [0.6, 0.8, 1.0], \n",
    "                'gamma': [0.5, 1, 1.5, 2, 5]}\n",
    "model = XGBClassifier(learning_rate=0.02,objective='binary:logistic',silent=True, nthread=1)\n",
    "\n",
    "kfold = model_selection.KFold(n_splits=7, shuffle=True, random_state=5)\n",
    "grid = GridSearchCV(estimator=model, param_grid=xgb_params_grid,\n",
    "                    scoring='roc_auc', cv=kfold )\n",
    "# grid_result = grid.fit(X_train, y_train) # Commenting this since the best parameters are already captured\n",
    "\n",
    "grid_best_params = {'colsample_bytree': 0.6,\n",
    " 'gamma': 0.5,\n",
    " 'max_depth': 6,\n",
    " 'n_estimators': 2000,\n",
    " 'subsample': 0.8}"
   ]
  },
  {
   "cell_type": "code",
   "execution_count": 91,
   "id": "6d5d7728-8a3f-4f44-9129-2a930d782a55",
   "metadata": {},
   "outputs": [],
   "source": [
    "# grid_result.best_params_"
   ]
  },
  {
   "cell_type": "markdown",
   "id": "a938f9cd-3dca-4e0e-ab40-b26b1d1b1510",
   "metadata": {
    "jupyter": {
     "source_hidden": true
    },
    "tags": []
   },
   "source": []
  },
  {
   "cell_type": "code",
   "execution_count": 92,
   "id": "375b5f68-9562-4e00-87a6-71998fca659e",
   "metadata": {
    "scrolled": true,
    "tags": []
   },
   "outputs": [
    {
     "name": "stdout",
     "output_type": "stream",
     "text": [
      "[10:15:32] WARNING: C:/Users/Administrator/workspace/xgboost-win64_release_1.5.0/src/learner.cc:1115: Starting in XGBoost 1.3.0, the default evaluation metric used with the objective 'binary:logistic' was changed from 'error' to 'logloss'. Explicitly set eval_metric if you'd like to restore the old behavior.\n",
      "[0]\tvalidation_0-logloss:0.66108\n"
     ]
    },
    {
     "name": "stderr",
     "output_type": "stream",
     "text": [
      "C:\\Users\\gayathri.gopalan\\Anaconda3\\lib\\site-packages\\xgboost\\sklearn.py:1224: UserWarning: The use of label encoder in XGBClassifier is deprecated and will be removed in a future release. To remove this warning, do the following: 1) Pass option use_label_encoder=False when constructing XGBClassifier object; and 2) Encode your labels (y) as integers starting with 0, i.e. 0, 1, 2, ..., [num_class - 1].\n",
      "  warnings.warn(label_encoder_deprecation_msg, UserWarning)\n"
     ]
    },
    {
     "name": "stdout",
     "output_type": "stream",
     "text": [
      "[110]\tvalidation_0-logloss:0.70983\n",
      "roc_auc_score: 0.6075805591036234\n",
      "--------------------------------------------------\n",
      "[10:15:32] WARNING: C:/Users/Administrator/workspace/xgboost-win64_release_1.5.0/src/learner.cc:1115: Starting in XGBoost 1.3.0, the default evaluation metric used with the objective 'binary:logistic' was changed from 'error' to 'logloss'. Explicitly set eval_metric if you'd like to restore the old behavior.\n",
      "[0]\tvalidation_0-logloss:0.66314\n"
     ]
    },
    {
     "name": "stderr",
     "output_type": "stream",
     "text": [
      "C:\\Users\\gayathri.gopalan\\Anaconda3\\lib\\site-packages\\xgboost\\sklearn.py:1224: UserWarning: The use of label encoder in XGBClassifier is deprecated and will be removed in a future release. To remove this warning, do the following: 1) Pass option use_label_encoder=False when constructing XGBClassifier object; and 2) Encode your labels (y) as integers starting with 0, i.e. 0, 1, 2, ..., [num_class - 1].\n",
      "  warnings.warn(label_encoder_deprecation_msg, UserWarning)\n"
     ]
    },
    {
     "name": "stdout",
     "output_type": "stream",
     "text": [
      "[112]\tvalidation_0-logloss:0.70535\n",
      "roc_auc_score: 0.5923539588352278\n",
      "--------------------------------------------------\n",
      "[10:15:33] WARNING: C:/Users/Administrator/workspace/xgboost-win64_release_1.5.0/src/learner.cc:1115: Starting in XGBoost 1.3.0, the default evaluation metric used with the objective 'binary:logistic' was changed from 'error' to 'logloss'. Explicitly set eval_metric if you'd like to restore the old behavior.\n",
      "[0]\tvalidation_0-logloss:0.65974\n"
     ]
    },
    {
     "name": "stderr",
     "output_type": "stream",
     "text": [
      "C:\\Users\\gayathri.gopalan\\Anaconda3\\lib\\site-packages\\xgboost\\sklearn.py:1224: UserWarning: The use of label encoder in XGBClassifier is deprecated and will be removed in a future release. To remove this warning, do the following: 1) Pass option use_label_encoder=False when constructing XGBClassifier object; and 2) Encode your labels (y) as integers starting with 0, i.e. 0, 1, 2, ..., [num_class - 1].\n",
      "  warnings.warn(label_encoder_deprecation_msg, UserWarning)\n"
     ]
    },
    {
     "name": "stdout",
     "output_type": "stream",
     "text": [
      "[110]\tvalidation_0-logloss:0.69347\n",
      "roc_auc_score: 0.6332276997202865\n",
      "--------------------------------------------------\n",
      "[10:15:34] WARNING: C:/Users/Administrator/workspace/xgboost-win64_release_1.5.0/src/learner.cc:1115: Starting in XGBoost 1.3.0, the default evaluation metric used with the objective 'binary:logistic' was changed from 'error' to 'logloss'. Explicitly set eval_metric if you'd like to restore the old behavior.\n",
      "[0]\tvalidation_0-logloss:0.65873\n"
     ]
    },
    {
     "name": "stderr",
     "output_type": "stream",
     "text": [
      "C:\\Users\\gayathri.gopalan\\Anaconda3\\lib\\site-packages\\xgboost\\sklearn.py:1224: UserWarning: The use of label encoder in XGBClassifier is deprecated and will be removed in a future release. To remove this warning, do the following: 1) Pass option use_label_encoder=False when constructing XGBClassifier object; and 2) Encode your labels (y) as integers starting with 0, i.e. 0, 1, 2, ..., [num_class - 1].\n",
      "  warnings.warn(label_encoder_deprecation_msg, UserWarning)\n"
     ]
    },
    {
     "name": "stdout",
     "output_type": "stream",
     "text": [
      "[106]\tvalidation_0-logloss:0.67240\n",
      "roc_auc_score: 0.6342382253553008\n",
      "--------------------------------------------------\n",
      "[10:15:34] WARNING: C:/Users/Administrator/workspace/xgboost-win64_release_1.5.0/src/learner.cc:1115: Starting in XGBoost 1.3.0, the default evaluation metric used with the objective 'binary:logistic' was changed from 'error' to 'logloss'. Explicitly set eval_metric if you'd like to restore the old behavior.\n",
      "[0]\tvalidation_0-logloss:0.66417\n"
     ]
    },
    {
     "name": "stderr",
     "output_type": "stream",
     "text": [
      "C:\\Users\\gayathri.gopalan\\Anaconda3\\lib\\site-packages\\xgboost\\sklearn.py:1224: UserWarning: The use of label encoder in XGBClassifier is deprecated and will be removed in a future release. To remove this warning, do the following: 1) Pass option use_label_encoder=False when constructing XGBClassifier object; and 2) Encode your labels (y) as integers starting with 0, i.e. 0, 1, 2, ..., [num_class - 1].\n",
      "  warnings.warn(label_encoder_deprecation_msg, UserWarning)\n"
     ]
    },
    {
     "name": "stdout",
     "output_type": "stream",
     "text": [
      "[115]\tvalidation_0-logloss:0.66910\n",
      "roc_auc_score: 0.6437290821193552\n",
      "--------------------------------------------------\n",
      "[10:15:35] WARNING: C:/Users/Administrator/workspace/xgboost-win64_release_1.5.0/src/learner.cc:1115: Starting in XGBoost 1.3.0, the default evaluation metric used with the objective 'binary:logistic' was changed from 'error' to 'logloss'. Explicitly set eval_metric if you'd like to restore the old behavior.\n",
      "[0]\tvalidation_0-logloss:0.66349\n"
     ]
    },
    {
     "name": "stderr",
     "output_type": "stream",
     "text": [
      "C:\\Users\\gayathri.gopalan\\Anaconda3\\lib\\site-packages\\xgboost\\sklearn.py:1224: UserWarning: The use of label encoder in XGBClassifier is deprecated and will be removed in a future release. To remove this warning, do the following: 1) Pass option use_label_encoder=False when constructing XGBClassifier object; and 2) Encode your labels (y) as integers starting with 0, i.e. 0, 1, 2, ..., [num_class - 1].\n",
      "  warnings.warn(label_encoder_deprecation_msg, UserWarning)\n"
     ]
    },
    {
     "name": "stdout",
     "output_type": "stream",
     "text": [
      "[107]\tvalidation_0-logloss:0.68927\n",
      "roc_auc_score: 0.5894881081343272\n",
      "--------------------------------------------------\n",
      "[10:15:35] WARNING: C:/Users/Administrator/workspace/xgboost-win64_release_1.5.0/src/learner.cc:1115: Starting in XGBoost 1.3.0, the default evaluation metric used with the objective 'binary:logistic' was changed from 'error' to 'logloss'. Explicitly set eval_metric if you'd like to restore the old behavior.\n",
      "[0]\tvalidation_0-logloss:0.66748\n"
     ]
    },
    {
     "name": "stderr",
     "output_type": "stream",
     "text": [
      "C:\\Users\\gayathri.gopalan\\Anaconda3\\lib\\site-packages\\xgboost\\sklearn.py:1224: UserWarning: The use of label encoder in XGBClassifier is deprecated and will be removed in a future release. To remove this warning, do the following: 1) Pass option use_label_encoder=False when constructing XGBClassifier object; and 2) Encode your labels (y) as integers starting with 0, i.e. 0, 1, 2, ..., [num_class - 1].\n",
      "  warnings.warn(label_encoder_deprecation_msg, UserWarning)\n"
     ]
    },
    {
     "name": "stdout",
     "output_type": "stream",
     "text": [
      "[109]\tvalidation_0-logloss:0.71699\n",
      "roc_auc_score: 0.5564883829973\n",
      "--------------------------------------------------\n",
      "[10:15:36] WARNING: C:/Users/Administrator/workspace/xgboost-win64_release_1.5.0/src/learner.cc:1115: Starting in XGBoost 1.3.0, the default evaluation metric used with the objective 'binary:logistic' was changed from 'error' to 'logloss'. Explicitly set eval_metric if you'd like to restore the old behavior.\n",
      "[0]\tvalidation_0-logloss:0.66481\n"
     ]
    },
    {
     "name": "stderr",
     "output_type": "stream",
     "text": [
      "C:\\Users\\gayathri.gopalan\\Anaconda3\\lib\\site-packages\\xgboost\\sklearn.py:1224: UserWarning: The use of label encoder in XGBClassifier is deprecated and will be removed in a future release. To remove this warning, do the following: 1) Pass option use_label_encoder=False when constructing XGBClassifier object; and 2) Encode your labels (y) as integers starting with 0, i.e. 0, 1, 2, ..., [num_class - 1].\n",
      "  warnings.warn(label_encoder_deprecation_msg, UserWarning)\n"
     ]
    },
    {
     "name": "stdout",
     "output_type": "stream",
     "text": [
      "[104]\tvalidation_0-logloss:0.68898\n",
      "roc_auc_score: 0.5950254175744372\n",
      "--------------------------------------------------\n",
      "[10:15:37] WARNING: C:/Users/Administrator/workspace/xgboost-win64_release_1.5.0/src/learner.cc:1115: Starting in XGBoost 1.3.0, the default evaluation metric used with the objective 'binary:logistic' was changed from 'error' to 'logloss'. Explicitly set eval_metric if you'd like to restore the old behavior.\n",
      "[0]\tvalidation_0-logloss:0.66554\n"
     ]
    },
    {
     "name": "stderr",
     "output_type": "stream",
     "text": [
      "C:\\Users\\gayathri.gopalan\\Anaconda3\\lib\\site-packages\\xgboost\\sklearn.py:1224: UserWarning: The use of label encoder in XGBClassifier is deprecated and will be removed in a future release. To remove this warning, do the following: 1) Pass option use_label_encoder=False when constructing XGBClassifier object; and 2) Encode your labels (y) as integers starting with 0, i.e. 0, 1, 2, ..., [num_class - 1].\n",
      "  warnings.warn(label_encoder_deprecation_msg, UserWarning)\n"
     ]
    },
    {
     "name": "stdout",
     "output_type": "stream",
     "text": [
      "[107]\tvalidation_0-logloss:0.70455\n",
      "roc_auc_score: 0.5904742231295163\n",
      "--------------------------------------------------\n"
     ]
    }
   ],
   "source": [
    "## Now using XGBoost\n",
    "\n",
    "xgb_params={'colsample_bytree': 0.6,\n",
    " 'gamma': 0.5,\n",
    " 'max_depth': 6,\n",
    " 'n_estimators': 2000,\n",
    " 'subsample': 0.8}\n",
    "\n",
    "result_xgb = my_cross_validation_model(X_train,y_train,XGBClassifier,xgb_params)\n",
    "# xgb.fit(X_train, y_train)"
   ]
  },
  {
   "cell_type": "code",
   "execution_count": 422,
   "id": "d1774c0d-967d-469e-92d4-6048e40a6ce7",
   "metadata": {},
   "outputs": [
    {
     "data": {
      "text/plain": [
       "<sklearn.metrics._plot.roc_curve.RocCurveDisplay at 0x1e2542e2e20>"
      ]
     },
     "execution_count": 422,
     "metadata": {},
     "output_type": "execute_result"
    },
    {
     "data": {
      "image/png": "[encoded data removed]",
      "text/plain": [
       "<Figure size 432x288 with 1 Axes>"
      ]
     },
     "metadata": {
      "needs_background": "light"
     },
     "output_type": "display_data"
    }
   ],
   "source": [
    "plot_roc_curve(result_xgb, X_test, y_test) "
   ]
  },
  {
   "cell_type": "code",
   "execution_count": 102,
   "id": "499f1df8-a705-4fea-81be-65ed4562e0fb",
   "metadata": {},
   "outputs": [],
   "source": [
    "xgb_pred_final= result_xgb.predict_proba(test_agent)\n",
    "\n",
    "xgb_df = pd.DataFrame(xgb_pred_final, columns=['Not_Business_Sourced', 'Business_Sourced'])\n",
    "xgb_df.drop(columns=['Not_Business_Sourced'], inplace=True)\n",
    "xgb_df.insert(0, 'ID', combine_agent[combine_agent.source=='test']['ID'].tolist())\n",
    "\n",
    "xgb_df.to_csv('xgb_agent_recruitment.csv',index=False)"
   ]
  },
  {
   "cell_type": "markdown",
   "id": "14504991-6d1e-4dc6-b671-f0cdfbf46a53",
   "metadata": {},
   "source": [
    "Though the score on the training data is 0.78 which is better than the logistic regression, it gives a lower value on the test (unseen) data. Therefore lets stick with logistic regression for this problem"
   ]
  }
 ],
 "metadata": {
  "kernelspec": {
   "display_name": "Python 3",
   "language": "python",
   "name": "python3"
  },
  "language_info": {
   "codemirror_mode": {
    "name": "ipython",
    "version": 3
   },
   "file_extension": ".py",
   "mimetype": "text/x-python",
   "name": "python",
   "nbconvert_exporter": "python",
   "pygments_lexer": "ipython3",
   "version": "3.8.8"
  }
 },
 "nbformat": 4,
 "nbformat_minor": 5
}
